{
  "nbformat": 4,
  "nbformat_minor": 0,
  "metadata": {
    "colab": {
      "provenance": [],
      "mount_file_id": "10Gopsze5_kmHjeXMGNUc7g6qK6NSA_mz",
      "authorship_tag": "ABX9TyMbW1olL+ctFo0LMKFUHJBM",
      "include_colab_link": true
    },
    "kernelspec": {
      "name": "python3",
      "display_name": "Python 3"
    },
    "language_info": {
      "name": "python"
    }
  },
  "cells": [
    {
      "cell_type": "markdown",
      "metadata": {
        "id": "view-in-github",
        "colab_type": "text"
      },
      "source": [
        "<a href=\"https://colab.research.google.com/github/sanagahoi/Python_fundamentals/blob/main/360DigiTMG.ipynb\" target=\"_parent\"><img src=\"https://colab.research.google.com/assets/colab-badge.svg\" alt=\"Open In Colab\"/></a>"
      ]
    },
    {
      "cell_type": "code",
      "execution_count": null,
      "metadata": {
        "colab": {
          "base_uri": "https://localhost:8080/"
        },
        "id": "aq6vNv08gNi9",
        "outputId": "f0355372-5728-4550-eb2c-c76f927b70f6"
      },
      "outputs": [
        {
          "output_type": "execute_result",
          "data": {
            "text/plain": [
              "['False',\n",
              " 'None',\n",
              " 'True',\n",
              " 'and',\n",
              " 'as',\n",
              " 'assert',\n",
              " 'async',\n",
              " 'await',\n",
              " 'break',\n",
              " 'class',\n",
              " 'continue',\n",
              " 'def',\n",
              " 'del',\n",
              " 'elif',\n",
              " 'else',\n",
              " 'except',\n",
              " 'finally',\n",
              " 'for',\n",
              " 'from',\n",
              " 'global',\n",
              " 'if',\n",
              " 'import',\n",
              " 'in',\n",
              " 'is',\n",
              " 'lambda',\n",
              " 'nonlocal',\n",
              " 'not',\n",
              " 'or',\n",
              " 'pass',\n",
              " 'raise',\n",
              " 'return',\n",
              " 'try',\n",
              " 'while',\n",
              " 'with',\n",
              " 'yield']"
            ]
          },
          "metadata": {},
          "execution_count": 9
        }
      ],
      "source": [
        "import keyword\n",
        "keyword.kwlist"
      ]
    },
    {
      "cell_type": "code",
      "source": [
        "a = 2; b = 3; c = 0\n",
        "# if there is non-zero value, it returns the last value else returns 0 and null is not treated as zero\n",
        "a and b,b and a, b and c, c and b,  c and a, a and c, \" \" and a"
      ],
      "metadata": {
        "colab": {
          "base_uri": "https://localhost:8080/"
        },
        "id": "te0_PAkXneY1",
        "outputId": "aefeb635-c878-4508-b2a6-0fc35b699591"
      },
      "execution_count": null,
      "outputs": [
        {
          "output_type": "execute_result",
          "data": {
            "text/plain": [
              "(3, 2, 0, 0, 0, 0, 2)"
            ]
          },
          "metadata": {},
          "execution_count": 10
        }
      ]
    },
    {
      "cell_type": "code",
      "source": [
        "True + True"
      ],
      "metadata": {
        "colab": {
          "base_uri": "https://localhost:8080/"
        },
        "id": "EgxRmQ7oNDky",
        "outputId": "e6c41ba7-b9a3-453c-ab71-1cc02992d6c3"
      },
      "execution_count": null,
      "outputs": [
        {
          "output_type": "execute_result",
          "data": {
            "text/plain": [
              "2"
            ]
          },
          "metadata": {},
          "execution_count": 11
        }
      ]
    },
    {
      "cell_type": "code",
      "source": [
        "True + True + False + False"
      ],
      "metadata": {
        "colab": {
          "base_uri": "https://localhost:8080/"
        },
        "id": "zW_AVaCNNDep",
        "outputId": "5131fdf6-82a3-4856-a33f-4e2fdfc2c6bb"
      },
      "execution_count": null,
      "outputs": [
        {
          "output_type": "execute_result",
          "data": {
            "text/plain": [
              "2"
            ]
          },
          "metadata": {},
          "execution_count": 12
        }
      ]
    },
    {
      "cell_type": "code",
      "source": [
        "# Sets are mutable but frozen sets are immutable\n",
        "normal_set = set(['a', 'b'])\n",
        "print(normal_set)\n",
        "normal_set.add('d')\n",
        "print(normal_set)"
      ],
      "metadata": {
        "id": "RJpsoY4oNDYN",
        "colab": {
          "base_uri": "https://localhost:8080/"
        },
        "outputId": "de4d0fe1-7c10-40d3-b1f5-e7e58614d3ea"
      },
      "execution_count": null,
      "outputs": [
        {
          "output_type": "stream",
          "name": "stdout",
          "text": [
            "{'b', 'a'}\n",
            "{'d', 'b', 'a'}\n"
          ]
        }
      ]
    },
    {
      "cell_type": "code",
      "source": [
        "frozen_set = frozenset(['a', 'b'])\n",
        "print(frozen_set)\n",
        "frozen_set.add('d')"
      ],
      "metadata": {
        "id": "t_GVn6wuNDUu",
        "colab": {
          "base_uri": "https://localhost:8080/",
          "height": 228
        },
        "outputId": "2631f261-96f9-4537-eef4-827c4cea7de7"
      },
      "execution_count": null,
      "outputs": [
        {
          "output_type": "stream",
          "name": "stdout",
          "text": [
            "frozenset({'b', 'a'})\n"
          ]
        },
        {
          "output_type": "error",
          "ename": "AttributeError",
          "evalue": "ignored",
          "traceback": [
            "\u001b[0;31m---------------------------------------------------------------------------\u001b[0m",
            "\u001b[0;31mAttributeError\u001b[0m                            Traceback (most recent call last)",
            "\u001b[0;32m<ipython-input-14-6b4831a639d5>\u001b[0m in \u001b[0;36m<cell line: 3>\u001b[0;34m()\u001b[0m\n\u001b[1;32m      1\u001b[0m \u001b[0mfrozen_set\u001b[0m \u001b[0;34m=\u001b[0m \u001b[0mfrozenset\u001b[0m\u001b[0;34m(\u001b[0m\u001b[0;34m[\u001b[0m\u001b[0;34m'a'\u001b[0m\u001b[0;34m,\u001b[0m \u001b[0;34m'b'\u001b[0m\u001b[0;34m]\u001b[0m\u001b[0;34m)\u001b[0m\u001b[0;34m\u001b[0m\u001b[0;34m\u001b[0m\u001b[0m\n\u001b[1;32m      2\u001b[0m \u001b[0mprint\u001b[0m\u001b[0;34m(\u001b[0m\u001b[0mfrozen_set\u001b[0m\u001b[0;34m)\u001b[0m\u001b[0;34m\u001b[0m\u001b[0;34m\u001b[0m\u001b[0m\n\u001b[0;32m----> 3\u001b[0;31m \u001b[0mfrozen_set\u001b[0m\u001b[0;34m.\u001b[0m\u001b[0madd\u001b[0m\u001b[0;34m(\u001b[0m\u001b[0;34m'd'\u001b[0m\u001b[0;34m)\u001b[0m\u001b[0;34m\u001b[0m\u001b[0;34m\u001b[0m\u001b[0m\n\u001b[0m",
            "\u001b[0;31mAttributeError\u001b[0m: 'frozenset' object has no attribute 'add'"
          ]
        }
      ]
    },
    {
      "cell_type": "code",
      "source": [
        "# union of set\n",
        "sets = normal_set | frozen_set\n",
        "print(sets)"
      ],
      "metadata": {
        "id": "38q12lQ7NDKX",
        "colab": {
          "base_uri": "https://localhost:8080/"
        },
        "outputId": "d4ef8e08-2918-42bf-94a6-5f3f93f30a5c"
      },
      "execution_count": null,
      "outputs": [
        {
          "output_type": "stream",
          "name": "stdout",
          "text": [
            "{'d', 'a', 'b'}\n"
          ]
        }
      ]
    },
    {
      "cell_type": "code",
      "source": [
        "# intersection\n",
        "intersection = normal_set & frozen_set\n",
        "print( intersection)"
      ],
      "metadata": {
        "id": "Vs6kWl373Jnq"
      },
      "execution_count": null,
      "outputs": []
    },
    {
      "cell_type": "code",
      "source": [
        "if normal_set > frozen_set:\n",
        "  print('normal_set is superset of frozen_set')\n",
        "elif normal_set < frozen_set:\n",
        "  print('normal_set is subset of frozen_set')\n",
        "else:\n",
        "  print('noraml_set is same as frozen_set')"
      ],
      "metadata": {
        "colab": {
          "base_uri": "https://localhost:8080/"
        },
        "id": "5JXblGPu3g2m",
        "outputId": "48370fe7-f349-4feb-a467-d65f8d70abce"
      },
      "execution_count": null,
      "outputs": [
        {
          "output_type": "stream",
          "name": "stdout",
          "text": [
            "normal_set is superset of frozen_set\n"
          ]
        }
      ]
    },
    {
      "cell_type": "code",
      "source": [
        "name = 'python'"
      ],
      "metadata": {
        "id": "mRa8FLyw4MXk"
      },
      "execution_count": null,
      "outputs": []
    },
    {
      "cell_type": "code",
      "source": [
        "# 50 spaces then name then 50 spaces\n",
        "name.center(50)"
      ],
      "metadata": {
        "colab": {
          "base_uri": "https://localhost:8080/",
          "height": 35
        },
        "id": "lo_ljnpSkgOd",
        "outputId": "a1b34e20-657d-497d-d679-7e4b61b79fa4"
      },
      "execution_count": null,
      "outputs": [
        {
          "output_type": "execute_result",
          "data": {
            "text/plain": [
              "'                      python                      '"
            ],
            "application/vnd.google.colaboratory.intrinsic+json": {
              "type": "string"
            }
          },
          "metadata": {},
          "execution_count": 2
        }
      ]
    },
    {
      "cell_type": "code",
      "source": [
        "str = '          python             '\n",
        "print(str)\n",
        "\n",
        "print(str.strip())\n",
        "print(str.lstrip())  #remove left side spaces\n",
        "print(str.rstrip())   #remove right side spaces"
      ],
      "metadata": {
        "colab": {
          "base_uri": "https://localhost:8080/"
        },
        "id": "VQUGg16DkgLw",
        "outputId": "6f6ce086-b576-4d9f-99ae-0ad8316e7f81"
      },
      "execution_count": null,
      "outputs": [
        {
          "output_type": "stream",
          "name": "stdout",
          "text": [
            "          python             \n",
            "python\n",
            "python             \n",
            "          python\n"
          ]
        }
      ]
    },
    {
      "cell_type": "code",
      "source": [
        "string = 'Prasad is python programmer'\n",
        "substring = 'p'\n",
        "\n",
        "count = string.count(substring)\n",
        "print(count)\n",
        "print(string.count('P'))"
      ],
      "metadata": {
        "colab": {
          "base_uri": "https://localhost:8080/"
        },
        "id": "MM4TDwwWkgJn",
        "outputId": "db844b71-0031-4e33-a2a3-7bc1c770debb"
      },
      "execution_count": null,
      "outputs": [
        {
          "output_type": "stream",
          "name": "stdout",
          "text": [
            "2\n",
            "1\n"
          ]
        }
      ]
    },
    {
      "cell_type": "code",
      "source": [
        "string.count(substring, 8, 25)"
      ],
      "metadata": {
        "colab": {
          "base_uri": "https://localhost:8080/"
        },
        "id": "R_NEn9SDkgGy",
        "outputId": "7def104a-e8e8-4b3e-e189-7c8616e28796"
      },
      "execution_count": null,
      "outputs": [
        {
          "output_type": "execute_result",
          "data": {
            "text/plain": [
              "2"
            ]
          },
          "metadata": {},
          "execution_count": 11
        }
      ]
    },
    {
      "cell_type": "code",
      "source": [
        "alphNumstr = 'This is an alphanumeric strings !!!'\n",
        "print(alphNumstr.isalnum())\n",
        "\n",
        "alphNumstr1 = 'This is an alphanumeric strings1 2'\n",
        "print(alphNumstr1.isalnum())\n",
        "\n",
        "alphNumstr = 'This34'\n",
        "print(alphNumstr.isalnum())"
      ],
      "metadata": {
        "colab": {
          "base_uri": "https://localhost:8080/"
        },
        "id": "aQTkAH9YkgB4",
        "outputId": "66b19937-178f-4001-fa13-d2be0b77dc97"
      },
      "execution_count": null,
      "outputs": [
        {
          "output_type": "stream",
          "name": "stdout",
          "text": [
            "False\n",
            "False\n",
            "True\n"
          ]
        }
      ]
    },
    {
      "cell_type": "code",
      "source": [
        "alpha = 'this'\n",
        "print(alpha.isalpha())\n",
        "\n",
        "new_alpha = \"This is string exp 09008908098 !!\"\n",
        "print(new_alpha.isalpha())\n",
        "print(new_alpha.isalnum())\n",
        "print(new_alpha.isdigit())"
      ],
      "metadata": {
        "colab": {
          "base_uri": "https://localhost:8080/"
        },
        "id": "3zBzPMzAkf8J",
        "outputId": "c478f5d4-d237-43e5-fafb-436a9a1f3c36"
      },
      "execution_count": null,
      "outputs": [
        {
          "output_type": "stream",
          "name": "stdout",
          "text": [
            "True\n",
            "False\n",
            "False\n",
            "False\n"
          ]
        }
      ]
    },
    {
      "cell_type": "code",
      "source": [
        "numStr = '2489784574'\n",
        "print(numStr.isdigit())"
      ],
      "metadata": {
        "colab": {
          "base_uri": "https://localhost:8080/"
        },
        "id": "Qff7QaJfkf42",
        "outputId": "1fab6c96-c10d-42a7-a3f3-e8c3262d51fa"
      },
      "execution_count": null,
      "outputs": [
        {
          "output_type": "stream",
          "name": "stdout",
          "text": [
            "True\n"
          ]
        }
      ]
    },
    {
      "cell_type": "code",
      "source": [
        "new_alpha.replace('is', 'was')\n",
        "print(new_alpha )    #immutable attribute\n",
        "print(new_alpha.replace('is', 'was'))    #replaces wherever it finds 'is' with or without spaces\n",
        "print(new_alpha.replace('is', 'was', 1))"
      ],
      "metadata": {
        "colab": {
          "base_uri": "https://localhost:8080/"
        },
        "id": "BAVCfgVPkf0T",
        "outputId": "cb8d2d2d-66e1-4926-a828-b77cec787c64"
      },
      "execution_count": null,
      "outputs": [
        {
          "output_type": "stream",
          "name": "stdout",
          "text": [
            "This is string exp 09008908098 !!\n",
            "Thwas was string exp 09008908098 !!\n",
            "Thwas is string exp 09008908098 !!\n"
          ]
        }
      ]
    },
    {
      "cell_type": "code",
      "source": [
        "print(\":\".join(new_alpha))"
      ],
      "metadata": {
        "colab": {
          "base_uri": "https://localhost:8080/"
        },
        "id": "h0KbhIUmkfx3",
        "outputId": "373a5336-f48c-4198-fe5a-42bd98f4ec22"
      },
      "execution_count": null,
      "outputs": [
        {
          "output_type": "stream",
          "name": "stdout",
          "text": [
            "T:h:i:s: :i:s: :s:t:r:i:n:g: :e:x:p: :0:9:0:0:8:9:0:8:0:9:8: :!:!\n"
          ]
        }
      ]
    },
    {
      "cell_type": "code",
      "source": [
        "print(new_alpha.split())\n",
        "print(new_alpha.split(\" \", 1))"
      ],
      "metadata": {
        "colab": {
          "base_uri": "https://localhost:8080/"
        },
        "id": "XK_DVJY8kfvY",
        "outputId": "7b3ef84e-87a3-4add-cc22-27d055d69fcf"
      },
      "execution_count": null,
      "outputs": [
        {
          "output_type": "stream",
          "name": "stdout",
          "text": [
            "['This', 'is', 'string', 'exp', '09008908098', '!!']\n",
            "['This', 'is string exp 09008908098 !!']\n"
          ]
        }
      ]
    },
    {
      "cell_type": "code",
      "source": [
        "print(new_alpha.find(\"i\"))\n",
        "pos = new_alpha.find('string')\n",
        "print(new_alpha[pos+1: ])"
      ],
      "metadata": {
        "colab": {
          "base_uri": "https://localhost:8080/"
        },
        "id": "nPh3-sbwkfss",
        "outputId": "7d0819ba-4d80-49a4-a66e-658689b97ada"
      },
      "execution_count": null,
      "outputs": [
        {
          "output_type": "stream",
          "name": "stdout",
          "text": [
            "2\n",
            "tring exp 09008908098 !!\n"
          ]
        }
      ]
    },
    {
      "cell_type": "code",
      "source": [
        "x = 2\n",
        "y = 3\n",
        "x, y = y, x     #swaping\n",
        "print(x, y)"
      ],
      "metadata": {
        "colab": {
          "base_uri": "https://localhost:8080/"
        },
        "id": "-Zhic8F-kfmf",
        "outputId": "1f32129d-bcf0-4ae6-af62-f574aa26db17"
      },
      "execution_count": null,
      "outputs": [
        {
          "output_type": "stream",
          "name": "stdout",
          "text": [
            "3 2\n"
          ]
        }
      ]
    },
    {
      "cell_type": "code",
      "source": [
        "def swap(x, y):\n",
        "  temp = x\n",
        "  x= y\n",
        "  y= temp\n",
        "  return x, y\n",
        "\n",
        "x, y = swap(x,y)\n",
        "print(x, y)"
      ],
      "metadata": {
        "colab": {
          "base_uri": "https://localhost:8080/"
        },
        "id": "Ljk6pzjakfbJ",
        "outputId": "754d9604-40c5-4c5d-f85f-28994ab4c1bf"
      },
      "execution_count": null,
      "outputs": [
        {
          "output_type": "stream",
          "name": "stdout",
          "text": [
            "2 3\n"
          ]
        }
      ]
    },
    {
      "cell_type": "code",
      "source": [
        "a = list(input(\"enter the list: \"))\n",
        "print(a)"
      ],
      "metadata": {
        "colab": {
          "base_uri": "https://localhost:8080/"
        },
        "id": "I8Rrd2kvuU1m",
        "outputId": "82cd0ed2-42f7-4bdc-c8dc-e24964f9dd82"
      },
      "execution_count": null,
      "outputs": [
        {
          "output_type": "stream",
          "name": "stdout",
          "text": [
            "enter the list: 12578745\n",
            "['1', '2', '5', '7', '8', '7', '4', '5']\n"
          ]
        }
      ]
    },
    {
      "cell_type": "code",
      "source": [
        "for i in range(1, len(a), 1):\n",
        "  print(a[i: ] + a[:i])       #shifting index"
      ],
      "metadata": {
        "colab": {
          "base_uri": "https://localhost:8080/"
        },
        "id": "_ATM1OjquW3o",
        "outputId": "fb0cc433-15b5-4173-d14c-b0548f81fb5e"
      },
      "execution_count": null,
      "outputs": [
        {
          "output_type": "stream",
          "name": "stdout",
          "text": [
            "['2', '5', '7', '8', '7', '4', '5', '1']\n",
            "['5', '7', '8', '7', '4', '5', '1', '2']\n",
            "['7', '8', '7', '4', '5', '1', '2', '5']\n",
            "['8', '7', '4', '5', '1', '2', '5', '7']\n",
            "['7', '4', '5', '1', '2', '5', '7', '8']\n",
            "['4', '5', '1', '2', '5', '7', '8', '7']\n",
            "['5', '1', '2', '5', '7', '8', '7', '4']\n"
          ]
        }
      ]
    },
    {
      "cell_type": "code",
      "source": [
        "range(0,5)"
      ],
      "metadata": {
        "id": "NNVgJbn4uWyD",
        "colab": {
          "base_uri": "https://localhost:8080/"
        },
        "outputId": "29df3628-1d5d-4cd6-8424-e71d8c9cb01a"
      },
      "execution_count": null,
      "outputs": [
        {
          "output_type": "execute_result",
          "data": {
            "text/plain": [
              "range(0, 5)"
            ]
          },
          "metadata": {},
          "execution_count": 1
        }
      ]
    },
    {
      "cell_type": "code",
      "source": [
        "list(range(0,6))"
      ],
      "metadata": {
        "id": "rxWRLyQHuWvf",
        "colab": {
          "base_uri": "https://localhost:8080/"
        },
        "outputId": "7c9817ea-cc06-4fbd-ab6a-08b0695026ca"
      },
      "execution_count": null,
      "outputs": [
        {
          "output_type": "execute_result",
          "data": {
            "text/plain": [
              "[0, 1, 2, 3, 4, 5]"
            ]
          },
          "metadata": {},
          "execution_count": 2
        }
      ]
    },
    {
      "cell_type": "code",
      "source": [
        "range(1,5,1)"
      ],
      "metadata": {
        "id": "wKKKT1O8uWsV",
        "colab": {
          "base_uri": "https://localhost:8080/"
        },
        "outputId": "997f4302-0491-45d0-9de0-5c1818224b8c"
      },
      "execution_count": null,
      "outputs": [
        {
          "output_type": "execute_result",
          "data": {
            "text/plain": [
              "range(1, 5)"
            ]
          },
          "metadata": {},
          "execution_count": 4
        }
      ]
    },
    {
      "cell_type": "code",
      "source": [
        "range(1,4,2)"
      ],
      "metadata": {
        "colab": {
          "base_uri": "https://localhost:8080/"
        },
        "id": "Bwm97qZC8Md4",
        "outputId": "a8c1fbe2-dcf6-4a5d-8d8c-7e3dfa06143c"
      },
      "execution_count": null,
      "outputs": [
        {
          "output_type": "execute_result",
          "data": {
            "text/plain": [
              "range(1, 4, 2)"
            ]
          },
          "metadata": {},
          "execution_count": 5
        }
      ]
    },
    {
      "cell_type": "code",
      "source": [
        "for i in range(0, 10, 2):\n",
        "  print(i, end=\" \")"
      ],
      "metadata": {
        "id": "4LdlbplRuWpN",
        "colab": {
          "base_uri": "https://localhost:8080/"
        },
        "outputId": "84a900a7-9b89-4ba5-9994-44788f32e478"
      },
      "execution_count": null,
      "outputs": [
        {
          "output_type": "stream",
          "name": "stdout",
          "text": [
            "0 2 4 6 8 "
          ]
        }
      ]
    },
    {
      "cell_type": "code",
      "source": [
        "numbers = [3,5,7,7]\n",
        "get_sum = [i+2 for i in numbers]\n",
        "get_sum"
      ],
      "metadata": {
        "id": "2syKPjPMuWlz",
        "colab": {
          "base_uri": "https://localhost:8080/"
        },
        "outputId": "c6f12373-236b-430f-ff8d-c557f6bf7b45"
      },
      "execution_count": null,
      "outputs": [
        {
          "output_type": "execute_result",
          "data": {
            "text/plain": [
              "[5, 7, 9, 9]"
            ]
          },
          "metadata": {},
          "execution_count": 8
        }
      ]
    },
    {
      "cell_type": "code",
      "source": [
        "getsum = [i+2 for i in numbers if i< 7]\n",
        "getsum"
      ],
      "metadata": {
        "id": "m5V8b3fxuWiu",
        "colab": {
          "base_uri": "https://localhost:8080/"
        },
        "outputId": "bb25d300-6388-41ef-83b7-0816b356a78f"
      },
      "execution_count": null,
      "outputs": [
        {
          "output_type": "execute_result",
          "data": {
            "text/plain": [
              "[5, 7]"
            ]
          },
          "metadata": {},
          "execution_count": 9
        }
      ]
    },
    {
      "cell_type": "code",
      "source": [
        "# factorial\n",
        "num = int(input('enter the number --> '))\n",
        "\n",
        "factorial = 1\n",
        "\n",
        "if num<0 :\n",
        "  print(\"number should be positive\")\n",
        "elif num <=1:\n",
        "  print(\"factorial : \", factorial)\n",
        "else:\n",
        "  for i in range(1, num+1):\n",
        "    factorial = factorial*i\n",
        "\n",
        "  print(\"Factorial : \", factorial)\n",
        "\n"
      ],
      "metadata": {
        "id": "oQ1rO3f8uWcy",
        "colab": {
          "base_uri": "https://localhost:8080/"
        },
        "outputId": "5bb8d808-30e4-4347-f8c3-d55bff7bdde0"
      },
      "execution_count": null,
      "outputs": [
        {
          "output_type": "stream",
          "name": "stdout",
          "text": [
            "enter the number --> 7\n",
            "Factorial :  5040\n"
          ]
        }
      ]
    },
    {
      "cell_type": "code",
      "source": [
        "# factorial\n",
        "num = int(input('enter the number --> '))\n",
        "\n",
        "factorial = 1\n",
        "\n",
        "if num<0 :\n",
        "  print(\"number should be positive\")\n",
        "elif num <=1:\n",
        "  print(\"factorial : \", factorial)\n",
        "else:\n",
        "  for i in range( num, 1, -1):\n",
        "    factorial = factorial*i\n",
        "\n",
        "  print(\"Factorial : \", factorial)\n"
      ],
      "metadata": {
        "id": "hcafvUkWuWZm",
        "colab": {
          "base_uri": "https://localhost:8080/"
        },
        "outputId": "1d8aa6ec-809b-4982-b537-4b16d188f896"
      },
      "execution_count": null,
      "outputs": [
        {
          "output_type": "stream",
          "name": "stdout",
          "text": [
            "enter the number --> 5\n",
            "Factorial :  120\n"
          ]
        }
      ]
    },
    {
      "cell_type": "code",
      "source": [
        "num = int(input('enter the number --> '))\n",
        "fact = 1\n",
        "factorial = [fact*i for i in (1, num+1) if num>=11]\n",
        "factorial"
      ],
      "metadata": {
        "id": "FdPhD3ezuWWQ",
        "colab": {
          "base_uri": "https://localhost:8080/"
        },
        "outputId": "dd6c44ba-0543-44cc-881e-11dcc8c4c3e9"
      },
      "execution_count": null,
      "outputs": [
        {
          "name": "stdout",
          "output_type": "stream",
          "text": [
            "enter the number --> 1\n"
          ]
        },
        {
          "output_type": "execute_result",
          "data": {
            "text/plain": [
              "[1, 2]"
            ]
          },
          "metadata": {},
          "execution_count": 28
        }
      ]
    },
    {
      "cell_type": "code",
      "source": [
        "names = ['Akasha', 'Gayatri', 'Gargi', 'stephanie']\n",
        "\n",
        "for i in names:\n",
        "  pass"
      ],
      "metadata": {
        "id": "xPr1tij3uWSm"
      },
      "execution_count": null,
      "outputs": []
    },
    {
      "cell_type": "code",
      "source": [
        "for i in names:\n",
        "  # print(len(i)) # string character count\n",
        "  if len(i) == 5:\n",
        "    continue\n",
        "  print(f'my name is {i}')"
      ],
      "metadata": {
        "id": "iVZhh4t2uWNV",
        "colab": {
          "base_uri": "https://localhost:8080/"
        },
        "outputId": "2475e071-dfdb-4bef-8475-380879e6a4a9"
      },
      "execution_count": null,
      "outputs": [
        {
          "output_type": "stream",
          "name": "stdout",
          "text": [
            "my name is Akasha\n",
            "my name is Gayatri\n",
            "my name is stephanie\n"
          ]
        }
      ]
    },
    {
      "cell_type": "code",
      "source": [
        "for i in names:\n",
        "  # print(len(i)) # string character count\n",
        "  if len(i) == 5:\n",
        "    break\n",
        "  print(f'my name is {i}')"
      ],
      "metadata": {
        "id": "cRcmq-cYuWHZ",
        "colab": {
          "base_uri": "https://localhost:8080/"
        },
        "outputId": "91193740-5df7-47cc-dbd0-c0bf8a439aed"
      },
      "execution_count": null,
      "outputs": [
        {
          "output_type": "stream",
          "name": "stdout",
          "text": [
            "my name is Akasha\n",
            "my name is Gayatri\n"
          ]
        }
      ]
    },
    {
      "cell_type": "code",
      "source": [
        "names = ['Akasha', 'Gayatri', 'Gargi', 'stephanie']\n",
        "name = 1\n",
        "if name < len(names):\n",
        "  print(names[name])\n",
        "  name +=1\n",
        "  print(names[name])"
      ],
      "metadata": {
        "id": "KsXDP_wRuWEW",
        "colab": {
          "base_uri": "https://localhost:8080/"
        },
        "outputId": "c32fcb33-0a31-4bb9-c65e-dabc61d46762"
      },
      "execution_count": null,
      "outputs": [
        {
          "output_type": "stream",
          "name": "stdout",
          "text": [
            "Gayatri\n",
            "Gargi\n"
          ]
        }
      ]
    },
    {
      "cell_type": "code",
      "source": [
        "#  if array contains even number\n",
        "\n",
        "arr= [21,55,45,33,65,77,44]\n",
        "for num in arr:\n",
        "  if num%2==0:\n",
        "    print(\"array contains even number\")\n",
        "    break\n",
        "else:\n",
        "  print(\"doesn't contain even number\")"
      ],
      "metadata": {
        "id": "cM3-5H0TuV_2",
        "colab": {
          "base_uri": "https://localhost:8080/"
        },
        "outputId": "ee745372-3228-4516-fd0f-2a4709bc977f"
      },
      "execution_count": null,
      "outputs": [
        {
          "output_type": "stream",
          "name": "stdout",
          "text": [
            "array contains even number\n"
          ]
        }
      ]
    },
    {
      "cell_type": "code",
      "source": [
        "list(enumerate(names))"
      ],
      "metadata": {
        "id": "sSmf4g45uV3i",
        "colab": {
          "base_uri": "https://localhost:8080/"
        },
        "outputId": "054f2062-6438-41a0-80ab-78eece64730d"
      },
      "execution_count": null,
      "outputs": [
        {
          "output_type": "execute_result",
          "data": {
            "text/plain": [
              "[(0, 'Akasha'), (1, 'Gayatri'), (2, 'Gargi'), (3, 'stephanie')]"
            ]
          },
          "metadata": {},
          "execution_count": 12
        }
      ]
    },
    {
      "cell_type": "code",
      "source": [
        "for i, j in enumerate(names):\n",
        "  print('index {} and value {}'.format(i,j))"
      ],
      "metadata": {
        "id": "GrQ2c79kuVTD",
        "colab": {
          "base_uri": "https://localhost:8080/"
        },
        "outputId": "212541f8-c6ae-4d71-cd8d-5a6e6045bcb6"
      },
      "execution_count": null,
      "outputs": [
        {
          "output_type": "stream",
          "name": "stdout",
          "text": [
            "index 0 and value Akasha\n",
            "index 1 and value Gayatri\n",
            "index 2 and value Gargi\n",
            "index 3 and value stephanie\n"
          ]
        }
      ]
    },
    {
      "cell_type": "code",
      "source": [
        "n = 6\n",
        "k = n+1\n",
        "\n",
        "for i in range(0, n):\n",
        "  for j in range(0, k):\n",
        "    print(\" \", end=\"\")\n",
        "  k = k-1\n",
        "  for j in range(0, i+1):\n",
        "    print(\"* \" , end=\"\")\n",
        "  print('\\r')      # carriage return"
      ],
      "metadata": {
        "colab": {
          "base_uri": "https://localhost:8080/"
        },
        "id": "7_-jDdjwH2_X",
        "outputId": "1bdf3c94-6944-4fbf-dc14-8f1ef2756536"
      },
      "execution_count": null,
      "outputs": [
        {
          "output_type": "stream",
          "name": "stdout",
          "text": [
            "       * \r\n",
            "      * * \r\n",
            "     * * * \r\n",
            "    * * * * \r\n",
            "   * * * * * \r\n",
            "  * * * * * * \r\n"
          ]
        }
      ]
    },
    {
      "cell_type": "code",
      "source": [
        "def sayHello():\n",
        "  print(\"hello !!\")\n",
        "\n",
        "for i in range(1,5):\n",
        "  sayHello()"
      ],
      "metadata": {
        "colab": {
          "base_uri": "https://localhost:8080/"
        },
        "id": "9ZD0mDmYH286",
        "outputId": "fa128258-31ac-4ab1-c128-6a160f2c28fa"
      },
      "execution_count": null,
      "outputs": [
        {
          "output_type": "stream",
          "name": "stdout",
          "text": [
            "hello !!\n",
            "hello !!\n",
            "hello !!\n",
            "hello !!\n"
          ]
        }
      ]
    },
    {
      "cell_type": "code",
      "source": [
        "def add(a,b):\n",
        "  return a+b\n",
        "\n",
        "sum = add(2,5)\n",
        "print(sum)"
      ],
      "metadata": {
        "colab": {
          "base_uri": "https://localhost:8080/"
        },
        "id": "wfbtkok6H26G",
        "outputId": "fa051c93-6f6c-4003-a1f5-039c66f14217"
      },
      "execution_count": null,
      "outputs": [
        {
          "output_type": "stream",
          "name": "stdout",
          "text": [
            "7\n"
          ]
        }
      ]
    },
    {
      "cell_type": "code",
      "source": [
        "import math\n",
        "help(math)"
      ],
      "metadata": {
        "colab": {
          "base_uri": "https://localhost:8080/"
        },
        "id": "b0rSh2gSH20Z",
        "outputId": "fd14150f-2fc5-4bbf-f5ce-ad652e8b4679"
      },
      "execution_count": null,
      "outputs": [
        {
          "output_type": "stream",
          "name": "stdout",
          "text": [
            "Help on built-in module math:\n",
            "\n",
            "NAME\n",
            "    math\n",
            "\n",
            "DESCRIPTION\n",
            "    This module provides access to the mathematical functions\n",
            "    defined by the C standard.\n",
            "\n",
            "FUNCTIONS\n",
            "    acos(x, /)\n",
            "        Return the arc cosine (measured in radians) of x.\n",
            "        \n",
            "        The result is between 0 and pi.\n",
            "    \n",
            "    acosh(x, /)\n",
            "        Return the inverse hyperbolic cosine of x.\n",
            "    \n",
            "    asin(x, /)\n",
            "        Return the arc sine (measured in radians) of x.\n",
            "        \n",
            "        The result is between -pi/2 and pi/2.\n",
            "    \n",
            "    asinh(x, /)\n",
            "        Return the inverse hyperbolic sine of x.\n",
            "    \n",
            "    atan(x, /)\n",
            "        Return the arc tangent (measured in radians) of x.\n",
            "        \n",
            "        The result is between -pi/2 and pi/2.\n",
            "    \n",
            "    atan2(y, x, /)\n",
            "        Return the arc tangent (measured in radians) of y/x.\n",
            "        \n",
            "        Unlike atan(y/x), the signs of both x and y are considered.\n",
            "    \n",
            "    atanh(x, /)\n",
            "        Return the inverse hyperbolic tangent of x.\n",
            "    \n",
            "    ceil(x, /)\n",
            "        Return the ceiling of x as an Integral.\n",
            "        \n",
            "        This is the smallest integer >= x.\n",
            "    \n",
            "    comb(n, k, /)\n",
            "        Number of ways to choose k items from n items without repetition and without order.\n",
            "        \n",
            "        Evaluates to n! / (k! * (n - k)!) when k <= n and evaluates\n",
            "        to zero when k > n.\n",
            "        \n",
            "        Also called the binomial coefficient because it is equivalent\n",
            "        to the coefficient of k-th term in polynomial expansion of the\n",
            "        expression (1 + x)**n.\n",
            "        \n",
            "        Raises TypeError if either of the arguments are not integers.\n",
            "        Raises ValueError if either of the arguments are negative.\n",
            "    \n",
            "    copysign(x, y, /)\n",
            "        Return a float with the magnitude (absolute value) of x but the sign of y.\n",
            "        \n",
            "        On platforms that support signed zeros, copysign(1.0, -0.0)\n",
            "        returns -1.0.\n",
            "    \n",
            "    cos(x, /)\n",
            "        Return the cosine of x (measured in radians).\n",
            "    \n",
            "    cosh(x, /)\n",
            "        Return the hyperbolic cosine of x.\n",
            "    \n",
            "    degrees(x, /)\n",
            "        Convert angle x from radians to degrees.\n",
            "    \n",
            "    dist(p, q, /)\n",
            "        Return the Euclidean distance between two points p and q.\n",
            "        \n",
            "        The points should be specified as sequences (or iterables) of\n",
            "        coordinates.  Both inputs must have the same dimension.\n",
            "        \n",
            "        Roughly equivalent to:\n",
            "            sqrt(sum((px - qx) ** 2.0 for px, qx in zip(p, q)))\n",
            "    \n",
            "    erf(x, /)\n",
            "        Error function at x.\n",
            "    \n",
            "    erfc(x, /)\n",
            "        Complementary error function at x.\n",
            "    \n",
            "    exp(x, /)\n",
            "        Return e raised to the power of x.\n",
            "    \n",
            "    expm1(x, /)\n",
            "        Return exp(x)-1.\n",
            "        \n",
            "        This function avoids the loss of precision involved in the direct evaluation of exp(x)-1 for small x.\n",
            "    \n",
            "    fabs(x, /)\n",
            "        Return the absolute value of the float x.\n",
            "    \n",
            "    factorial(x, /)\n",
            "        Find x!.\n",
            "        \n",
            "        Raise a ValueError if x is negative or non-integral.\n",
            "    \n",
            "    floor(x, /)\n",
            "        Return the floor of x as an Integral.\n",
            "        \n",
            "        This is the largest integer <= x.\n",
            "    \n",
            "    fmod(x, y, /)\n",
            "        Return fmod(x, y), according to platform C.\n",
            "        \n",
            "        x % y may differ.\n",
            "    \n",
            "    frexp(x, /)\n",
            "        Return the mantissa and exponent of x, as pair (m, e).\n",
            "        \n",
            "        m is a float and e is an int, such that x = m * 2.**e.\n",
            "        If x is 0, m and e are both 0.  Else 0.5 <= abs(m) < 1.0.\n",
            "    \n",
            "    fsum(seq, /)\n",
            "        Return an accurate floating point sum of values in the iterable seq.\n",
            "        \n",
            "        Assumes IEEE-754 floating point arithmetic.\n",
            "    \n",
            "    gamma(x, /)\n",
            "        Gamma function at x.\n",
            "    \n",
            "    gcd(*integers)\n",
            "        Greatest Common Divisor.\n",
            "    \n",
            "    hypot(...)\n",
            "        hypot(*coordinates) -> value\n",
            "        \n",
            "        Multidimensional Euclidean distance from the origin to a point.\n",
            "        \n",
            "        Roughly equivalent to:\n",
            "            sqrt(sum(x**2 for x in coordinates))\n",
            "        \n",
            "        For a two dimensional point (x, y), gives the hypotenuse\n",
            "        using the Pythagorean theorem:  sqrt(x*x + y*y).\n",
            "        \n",
            "        For example, the hypotenuse of a 3/4/5 right triangle is:\n",
            "        \n",
            "            >>> hypot(3.0, 4.0)\n",
            "            5.0\n",
            "    \n",
            "    isclose(a, b, *, rel_tol=1e-09, abs_tol=0.0)\n",
            "        Determine whether two floating point numbers are close in value.\n",
            "        \n",
            "          rel_tol\n",
            "            maximum difference for being considered \"close\", relative to the\n",
            "            magnitude of the input values\n",
            "          abs_tol\n",
            "            maximum difference for being considered \"close\", regardless of the\n",
            "            magnitude of the input values\n",
            "        \n",
            "        Return True if a is close in value to b, and False otherwise.\n",
            "        \n",
            "        For the values to be considered close, the difference between them\n",
            "        must be smaller than at least one of the tolerances.\n",
            "        \n",
            "        -inf, inf and NaN behave similarly to the IEEE 754 Standard.  That\n",
            "        is, NaN is not close to anything, even itself.  inf and -inf are\n",
            "        only close to themselves.\n",
            "    \n",
            "    isfinite(x, /)\n",
            "        Return True if x is neither an infinity nor a NaN, and False otherwise.\n",
            "    \n",
            "    isinf(x, /)\n",
            "        Return True if x is a positive or negative infinity, and False otherwise.\n",
            "    \n",
            "    isnan(x, /)\n",
            "        Return True if x is a NaN (not a number), and False otherwise.\n",
            "    \n",
            "    isqrt(n, /)\n",
            "        Return the integer part of the square root of the input.\n",
            "    \n",
            "    lcm(*integers)\n",
            "        Least Common Multiple.\n",
            "    \n",
            "    ldexp(x, i, /)\n",
            "        Return x * (2**i).\n",
            "        \n",
            "        This is essentially the inverse of frexp().\n",
            "    \n",
            "    lgamma(x, /)\n",
            "        Natural logarithm of absolute value of Gamma function at x.\n",
            "    \n",
            "    log(...)\n",
            "        log(x, [base=math.e])\n",
            "        Return the logarithm of x to the given base.\n",
            "        \n",
            "        If the base not specified, returns the natural logarithm (base e) of x.\n",
            "    \n",
            "    log10(x, /)\n",
            "        Return the base 10 logarithm of x.\n",
            "    \n",
            "    log1p(x, /)\n",
            "        Return the natural logarithm of 1+x (base e).\n",
            "        \n",
            "        The result is computed in a way which is accurate for x near zero.\n",
            "    \n",
            "    log2(x, /)\n",
            "        Return the base 2 logarithm of x.\n",
            "    \n",
            "    modf(x, /)\n",
            "        Return the fractional and integer parts of x.\n",
            "        \n",
            "        Both results carry the sign of x and are floats.\n",
            "    \n",
            "    nextafter(x, y, /)\n",
            "        Return the next floating-point value after x towards y.\n",
            "    \n",
            "    perm(n, k=None, /)\n",
            "        Number of ways to choose k items from n items without repetition and with order.\n",
            "        \n",
            "        Evaluates to n! / (n - k)! when k <= n and evaluates\n",
            "        to zero when k > n.\n",
            "        \n",
            "        If k is not specified or is None, then k defaults to n\n",
            "        and the function returns n!.\n",
            "        \n",
            "        Raises TypeError if either of the arguments are not integers.\n",
            "        Raises ValueError if either of the arguments are negative.\n",
            "    \n",
            "    pow(x, y, /)\n",
            "        Return x**y (x to the power of y).\n",
            "    \n",
            "    prod(iterable, /, *, start=1)\n",
            "        Calculate the product of all the elements in the input iterable.\n",
            "        \n",
            "        The default start value for the product is 1.\n",
            "        \n",
            "        When the iterable is empty, return the start value.  This function is\n",
            "        intended specifically for use with numeric values and may reject\n",
            "        non-numeric types.\n",
            "    \n",
            "    radians(x, /)\n",
            "        Convert angle x from degrees to radians.\n",
            "    \n",
            "    remainder(x, y, /)\n",
            "        Difference between x and the closest integer multiple of y.\n",
            "        \n",
            "        Return x - n*y where n*y is the closest integer multiple of y.\n",
            "        In the case where x is exactly halfway between two multiples of\n",
            "        y, the nearest even value of n is used. The result is always exact.\n",
            "    \n",
            "    sin(x, /)\n",
            "        Return the sine of x (measured in radians).\n",
            "    \n",
            "    sinh(x, /)\n",
            "        Return the hyperbolic sine of x.\n",
            "    \n",
            "    sqrt(x, /)\n",
            "        Return the square root of x.\n",
            "    \n",
            "    tan(x, /)\n",
            "        Return the tangent of x (measured in radians).\n",
            "    \n",
            "    tanh(x, /)\n",
            "        Return the hyperbolic tangent of x.\n",
            "    \n",
            "    trunc(x, /)\n",
            "        Truncates the Real x to the nearest Integral toward 0.\n",
            "        \n",
            "        Uses the __trunc__ magic method.\n",
            "    \n",
            "    ulp(x, /)\n",
            "        Return the value of the least significant bit of the float x.\n",
            "\n",
            "DATA\n",
            "    e = 2.718281828459045\n",
            "    inf = inf\n",
            "    nan = nan\n",
            "    pi = 3.141592653589793\n",
            "    tau = 6.283185307179586\n",
            "\n",
            "FILE\n",
            "    (built-in)\n",
            "\n",
            "\n"
          ]
        }
      ]
    },
    {
      "cell_type": "code",
      "source": [
        "print('hello '*5)"
      ],
      "metadata": {
        "id": "VY3dgMDfH2xd",
        "colab": {
          "base_uri": "https://localhost:8080/"
        },
        "outputId": "4cb2105b-ab7e-43f8-c998-c35d8da1cb91"
      },
      "execution_count": null,
      "outputs": [
        {
          "output_type": "stream",
          "name": "stdout",
          "text": [
            "hello hello hello hello hello \n"
          ]
        }
      ]
    },
    {
      "cell_type": "code",
      "source": [
        "def hellofn(msg, time=1):\n",
        "  print(msg*time)\n",
        "\n",
        "hellofn(\"hello \")\n",
        "hellofn('helo '* 4)"
      ],
      "metadata": {
        "id": "EL5R4tEpH2uS",
        "colab": {
          "base_uri": "https://localhost:8080/"
        },
        "outputId": "105c86bb-e9cd-431f-e66d-1a74260a8f51"
      },
      "execution_count": null,
      "outputs": [
        {
          "output_type": "stream",
          "name": "stdout",
          "text": [
            "hello \n",
            "helo helo helo helo \n"
          ]
        }
      ]
    },
    {
      "cell_type": "code",
      "source": [
        "def argumnt(*args):\n",
        "  for arg in args:\n",
        "    print(arg , end=\" \")\n",
        "\n",
        "argumnt('hello', 'honey')"
      ],
      "metadata": {
        "id": "d4PWLrzZH2mX",
        "colab": {
          "base_uri": "https://localhost:8080/"
        },
        "outputId": "30915634-1427-4b65-a96d-2818a1c27ac0"
      },
      "execution_count": null,
      "outputs": [
        {
          "output_type": "stream",
          "name": "stdout",
          "text": [
            "hello honey "
          ]
        }
      ]
    },
    {
      "cell_type": "code",
      "source": [
        "# kargs = data type of dictionary\n",
        "\n",
        "def intro(**data):\n",
        "  print(\"data type of argument : \", type(data) )\n",
        "\n",
        "  for key, value in data.items():\n",
        "    print(\"{} is {} \".format(key,value))\n",
        "\n",
        "intro(firstname = 'Ram', lastname= 'raghuvanshi', age = 47)"
      ],
      "metadata": {
        "colab": {
          "base_uri": "https://localhost:8080/"
        },
        "id": "lFjyBEygcfAy",
        "outputId": "94f19da5-5870-4206-d354-39945ea96338"
      },
      "execution_count": null,
      "outputs": [
        {
          "output_type": "stream",
          "name": "stdout",
          "text": [
            "data type of argument :  <class 'dict'>\n",
            "firstname is Ram \n",
            "lastname is raghuvanshi \n",
            "age is 47 \n"
          ]
        }
      ]
    },
    {
      "cell_type": "code",
      "source": [
        "def total(initial, *numbers, **keywords):\n",
        "  count = initial\n",
        "  for number in numbers:\n",
        "    count +=number\n",
        "  for key in keywords:\n",
        "    count += keywords[key]\n",
        "  return count\n",
        "print(total(10, 1, 2, 3, vegetables =50, fruits=100))"
      ],
      "metadata": {
        "colab": {
          "base_uri": "https://localhost:8080/"
        },
        "id": "hhdUWxncce7K",
        "outputId": "7f947f33-5bc4-44fb-ad23-30ba31191034"
      },
      "execution_count": null,
      "outputs": [
        {
          "output_type": "stream",
          "name": "stdout",
          "text": [
            "166\n"
          ]
        }
      ]
    },
    {
      "cell_type": "code",
      "source": [
        "symbols = '$&'\n",
        "code = []\n",
        "for symbol in symbols:\n",
        "  code.append(ord(symbol))\n",
        "\n",
        "code"
      ],
      "metadata": {
        "colab": {
          "base_uri": "https://localhost:8080/"
        },
        "id": "LLsCqv8Yce4U",
        "outputId": "19a3f8ca-688f-4e15-8c0d-e7c8f6b7f3f0"
      },
      "execution_count": null,
      "outputs": [
        {
          "output_type": "execute_result",
          "data": {
            "text/plain": [
              "[36, 38]"
            ]
          },
          "metadata": {},
          "execution_count": 1
        }
      ]
    },
    {
      "cell_type": "code",
      "source": [
        "codes = [ord(symbol) for symbol in symbols]\n",
        "codes"
      ],
      "metadata": {
        "colab": {
          "base_uri": "https://localhost:8080/"
        },
        "id": "f-NthrYZce03",
        "outputId": "8acb5d6a-e6ac-4479-e838-2c661db0b477"
      },
      "execution_count": null,
      "outputs": [
        {
          "output_type": "execute_result",
          "data": {
            "text/plain": [
              "[36, 38]"
            ]
          },
          "metadata": {},
          "execution_count": 2
        }
      ]
    },
    {
      "cell_type": "code",
      "source": [
        "numbers = range(10)\n",
        "print(numbers)\n",
        "\n",
        "new_dict = {}\n",
        "\n",
        "for n in numbers:\n",
        "  if n%2 ==0:\n",
        "    new_dict[n] = n**2\n",
        "print(new_dict)"
      ],
      "metadata": {
        "colab": {
          "base_uri": "https://localhost:8080/"
        },
        "id": "5aMEclaXcer1",
        "outputId": "8ac1c129-ab5f-448d-e5ee-9b8564ece5f2"
      },
      "execution_count": null,
      "outputs": [
        {
          "output_type": "stream",
          "name": "stdout",
          "text": [
            "range(0, 10)\n",
            "{0: 0, 2: 4, 4: 16, 6: 36, 8: 64}\n"
          ]
        }
      ]
    },
    {
      "cell_type": "code",
      "source": [
        "dict1 = {n: n**2 for n in numbers if n%2==0}\n",
        "dict1"
      ],
      "metadata": {
        "colab": {
          "base_uri": "https://localhost:8080/"
        },
        "id": "LAou1YlpceoP",
        "outputId": "ba01aabc-a6a7-4f21-aaca-9221e3ba4266"
      },
      "execution_count": null,
      "outputs": [
        {
          "output_type": "execute_result",
          "data": {
            "text/plain": [
              "{0: 0, 2: 4, 4: 16, 6: 36, 8: 64}"
            ]
          },
          "metadata": {},
          "execution_count": 7
        }
      ]
    },
    {
      "cell_type": "code",
      "source": [
        "dict_keys = {k*2 : v*2 for (k, v) in dict1.items()}\n",
        "dict_keys"
      ],
      "metadata": {
        "colab": {
          "base_uri": "https://localhost:8080/"
        },
        "id": "pMiZMRFpo_WB",
        "outputId": "f4d3b195-696e-4113-b2b4-a2d0ee78d724"
      },
      "execution_count": null,
      "outputs": [
        {
          "output_type": "execute_result",
          "data": {
            "text/plain": [
              "{0: 0, 4: 8, 8: 32, 12: 72, 16: 128}"
            ]
          },
          "metadata": {},
          "execution_count": 8
        }
      ]
    },
    {
      "cell_type": "code",
      "source": [
        "name = ['manjeet', 'Nenat', 'sambhav']\n",
        "rollno = [4,7,8]\n",
        "marks = [40, 25,62]\n",
        "map = zip(name, rollno, marks)\n",
        "print(map)\n",
        "map = set(map)\n",
        "print(map)"
      ],
      "metadata": {
        "colab": {
          "base_uri": "https://localhost:8080/"
        },
        "id": "f4BwodjMo_Sb",
        "outputId": "13badc9a-9531-4cb9-922a-5143a273b7d1"
      },
      "execution_count": null,
      "outputs": [
        {
          "output_type": "stream",
          "name": "stdout",
          "text": [
            "<zip object at 0x7b284ba15740>\n",
            "{('manjeet', 4, 40), ('sambhav', 8, 62), ('Nenat', 7, 25)}\n"
          ]
        }
      ]
    },
    {
      "cell_type": "code",
      "source": [
        "namz, rollz, markz = zip(*map)\n",
        "print(\"Unzipped Results are: \")\n",
        "print(namz)\n",
        "print(rollz)\n",
        "print(markz)"
      ],
      "metadata": {
        "colab": {
          "base_uri": "https://localhost:8080/"
        },
        "id": "RJk_M-b0o_PX",
        "outputId": "6d62cf33-01ba-472a-9228-74b49b13bfcd"
      },
      "execution_count": null,
      "outputs": [
        {
          "output_type": "stream",
          "name": "stdout",
          "text": [
            "Unzipped Results are: \n",
            "('manjeet', 'sambhav', 'Nenat')\n",
            "(4, 8, 7)\n",
            "(40, 62, 25)\n"
          ]
        }
      ]
    },
    {
      "cell_type": "code",
      "source": [
        "a= 10\n",
        "global_var = globals()\n",
        "\n",
        "def func():\n",
        "  b= 20\n",
        "  local_vars=locals()\n",
        "  print(local_vars)\n",
        "\n",
        "func()\n",
        "\n",
        "print(global_var)"
      ],
      "metadata": {
        "colab": {
          "base_uri": "https://localhost:8080/"
        },
        "id": "qge4A1Kuo_M-",
        "outputId": "19a992e1-3cde-437a-d762-63f6f1bcd00d"
      },
      "execution_count": null,
      "outputs": [
        {
          "output_type": "stream",
          "name": "stdout",
          "text": [
            "{'b': 20}\n",
            "{'__name__': '__main__', '__doc__': 'Automatically created module for IPython interactive environment', '__package__': None, '__loader__': None, '__spec__': None, '__builtin__': <module 'builtins' (built-in)>, '__builtins__': <module 'builtins' (built-in)>, '_ih': ['', 'a= 10\\n\\ndef func():\\n  b= 20\\n  local_vars=locals()\\n  print(local_vars)\\n\\nfunc()\\n\\nprint(globals())', 'a= 10\\nglobal_var = globals()\\n\\ndef func():\\n  b= 20\\n  local_vars=locals()\\n  print(local_vars)\\n\\nfunc()\\n\\nprint(global_var)'], '_oh': {}, '_dh': ['/content'], 'In': ['', 'a= 10\\n\\ndef func():\\n  b= 20\\n  local_vars=locals()\\n  print(local_vars)\\n\\nfunc()\\n\\nprint(globals())', 'a= 10\\nglobal_var = globals()\\n\\ndef func():\\n  b= 20\\n  local_vars=locals()\\n  print(local_vars)\\n\\nfunc()\\n\\nprint(global_var)'], 'Out': {}, 'get_ipython': <bound method InteractiveShell.get_ipython of <google.colab._shell.Shell object at 0x7e3d3fe02020>>, 'exit': <IPython.core.autocall.ZMQExitAutocall object at 0x7e3d3fe02a10>, 'quit': <IPython.core.autocall.ZMQExitAutocall object at 0x7e3d3fe02a10>, '_': '', '__': '', '___': '', '_i': 'a= 10\\n\\ndef func():\\n  b= 20\\n  local_vars=locals()\\n  print(local_vars)\\n\\nfunc()\\n\\nprint(globals())', '_ii': '', '_iii': '', '_i1': 'a= 10\\n\\ndef func():\\n  b= 20\\n  local_vars=locals()\\n  print(local_vars)\\n\\nfunc()\\n\\nprint(globals())', 'a': 10, 'func': <function func at 0x7e3d03f8ec20>, '_i2': 'a= 10\\nglobal_var = globals()\\n\\ndef func():\\n  b= 20\\n  local_vars=locals()\\n  print(local_vars)\\n\\nfunc()\\n\\nprint(global_var)', 'global_var': {...}}\n"
          ]
        }
      ]
    },
    {
      "cell_type": "code",
      "source": [
        "def odd_even(num):\n",
        "  if num%2 == 0:\n",
        "    print(\"number is even\")\n",
        "  else:\n",
        "    print(\"number is odd\")\n",
        "num = int(input(\"enter the number : \"))\n",
        "odd_even(num)"
      ],
      "metadata": {
        "colab": {
          "base_uri": "https://localhost:8080/"
        },
        "id": "v7-i_Qtho_J2",
        "outputId": "897fe29c-b611-4840-ae2e-dd12a8dd2846"
      },
      "execution_count": null,
      "outputs": [
        {
          "output_type": "stream",
          "name": "stdout",
          "text": [
            "enter the number : 12\n",
            "number is even\n"
          ]
        }
      ]
    },
    {
      "cell_type": "code",
      "source": [
        "animals = ['cat', 'dog', 'horse', 'elephant', 'goat', 'deer']\n",
        "sorted(animals)"
      ],
      "metadata": {
        "id": "9TKSAkAQo_GZ",
        "colab": {
          "base_uri": "https://localhost:8080/"
        },
        "outputId": "a7a2a6a0-2df7-4ba2-ff61-a2ef0611be6f"
      },
      "execution_count": null,
      "outputs": [
        {
          "output_type": "execute_result",
          "data": {
            "text/plain": [
              "['cat', 'deer', 'dog', 'elephant', 'goat', 'horse']"
            ]
          },
          "metadata": {},
          "execution_count": 1
        }
      ]
    },
    {
      "cell_type": "code",
      "source": [
        "sorted(animals, reverse=True)"
      ],
      "metadata": {
        "id": "xTWfIQdHo_DG",
        "colab": {
          "base_uri": "https://localhost:8080/"
        },
        "outputId": "0a7a7691-5f9e-4616-b057-1d624871a0f4"
      },
      "execution_count": null,
      "outputs": [
        {
          "output_type": "execute_result",
          "data": {
            "text/plain": [
              "['horse', 'goat', 'elephant', 'dog', 'deer', 'cat']"
            ]
          },
          "metadata": {},
          "execution_count": 2
        }
      ]
    },
    {
      "cell_type": "code",
      "source": [
        "sorted(animals, key=len)"
      ],
      "metadata": {
        "id": "wsFJMXOfo_AK",
        "colab": {
          "base_uri": "https://localhost:8080/"
        },
        "outputId": "91293f51-8fb1-44b8-d060-6cf76fb388d4"
      },
      "execution_count": null,
      "outputs": [
        {
          "output_type": "execute_result",
          "data": {
            "text/plain": [
              "['cat', 'dog', 'goat', 'deer', 'horse', 'elephant']"
            ]
          },
          "metadata": {},
          "execution_count": 5
        }
      ]
    },
    {
      "cell_type": "code",
      "source": [
        "sorted(animals, key=len, reverse=True)"
      ],
      "metadata": {
        "id": "_1GvjCqho-6a",
        "colab": {
          "base_uri": "https://localhost:8080/"
        },
        "outputId": "7d95b48f-88da-4ca7-d920-6651dea3f614"
      },
      "execution_count": null,
      "outputs": [
        {
          "output_type": "execute_result",
          "data": {
            "text/plain": [
              "['elephant', 'horse', 'goat', 'deer', 'cat', 'dog']"
            ]
          },
          "metadata": {},
          "execution_count": 6
        }
      ]
    },
    {
      "cell_type": "code",
      "source": [
        "animals.sort()\n",
        "animals"
      ],
      "metadata": {
        "id": "rHMXlpfUo-3K",
        "colab": {
          "base_uri": "https://localhost:8080/"
        },
        "outputId": "460e83b6-013c-4f41-92cd-704c5e976510"
      },
      "execution_count": null,
      "outputs": [
        {
          "output_type": "execute_result",
          "data": {
            "text/plain": [
              "['cat', 'deer', 'dog', 'elephant', 'goat', 'horse']"
            ]
          },
          "metadata": {},
          "execution_count": 11
        }
      ]
    },
    {
      "cell_type": "code",
      "source": [
        "abc = animals\n",
        "abc"
      ],
      "metadata": {
        "id": "_Y-C7M9xo-0W",
        "colab": {
          "base_uri": "https://localhost:8080/"
        },
        "outputId": "6a760474-483d-4831-b6ce-82eadae01ed3"
      },
      "execution_count": null,
      "outputs": [
        {
          "output_type": "execute_result",
          "data": {
            "text/plain": [
              "['cat', 'deer', 'dog', 'elephant', 'goat', 'horse']"
            ]
          },
          "metadata": {},
          "execution_count": 12
        }
      ]
    },
    {
      "cell_type": "code",
      "source": [
        "# !pip install collections         not needed at google colab"
      ],
      "metadata": {
        "colab": {
          "base_uri": "https://localhost:8080/"
        },
        "id": "yX4UC_FeQe7a",
        "outputId": "43d2bcab-1e7b-431e-9cb4-da2521309522"
      },
      "execution_count": null,
      "outputs": [
        {
          "output_type": "stream",
          "name": "stdout",
          "text": [
            "\u001b[31mERROR: Could not find a version that satisfies the requirement collections (from versions: none)\u001b[0m\u001b[31m\n",
            "\u001b[0m\u001b[31mERROR: No matching distribution found for collections\u001b[0m\u001b[31m\n",
            "\u001b[0m"
          ]
        }
      ]
    },
    {
      "cell_type": "code",
      "source": [
        "import collections as cl\n",
        "default_dict = cl.defaultdict(lambda: \"key not available\")\n",
        "default_dict\n",
        "\n",
        "default_dict['a'] =1\n",
        "default_dict['a']\n",
        "default_dict['b']"
      ],
      "metadata": {
        "id": "ErOLGIJ3o-wx",
        "colab": {
          "base_uri": "https://localhost:8080/"
        },
        "outputId": "53c1acf8-df9f-4024-9d54-0825710e38ed"
      },
      "execution_count": null,
      "outputs": [
        {
          "output_type": "execute_result",
          "data": {
            "text/plain": [
              "1"
            ]
          },
          "metadata": {},
          "execution_count": 16
        }
      ]
    },
    {
      "cell_type": "code",
      "source": [
        "s = lambda x:x*x\n",
        "s(12)"
      ],
      "metadata": {
        "id": "ntUxxPwXo-tM",
        "colab": {
          "base_uri": "https://localhost:8080/"
        },
        "outputId": "ab3e1a89-c1b9-40ce-b214-018d1d95128e"
      },
      "execution_count": null,
      "outputs": [
        {
          "output_type": "execute_result",
          "data": {
            "text/plain": [
              "144"
            ]
          },
          "metadata": {},
          "execution_count": 19
        }
      ]
    },
    {
      "cell_type": "code",
      "source": [
        "val = [2,4,5,6,7]\n",
        "list(map(lambda x:x*2, val))"
      ],
      "metadata": {
        "colab": {
          "base_uri": "https://localhost:8080/"
        },
        "id": "Rrp3hg1BTOrx",
        "outputId": "c2d64d60-38ed-481e-9af6-b434f1bd0f3f"
      },
      "execution_count": null,
      "outputs": [
        {
          "output_type": "execute_result",
          "data": {
            "text/plain": [
              "[4, 8, 10, 12, 14]"
            ]
          },
          "metadata": {},
          "execution_count": 20
        }
      ]
    },
    {
      "cell_type": "code",
      "source": [
        "list(map(str, val))"
      ],
      "metadata": {
        "colab": {
          "base_uri": "https://localhost:8080/"
        },
        "id": "gQH5HmOpTOoW",
        "outputId": "241cb02e-3dac-438d-a04f-c2ac9287dab3"
      },
      "execution_count": null,
      "outputs": [
        {
          "output_type": "execute_result",
          "data": {
            "text/plain": [
              "['2', '4', '5', '6', '7']"
            ]
          },
          "metadata": {},
          "execution_count": 21
        }
      ]
    },
    {
      "cell_type": "code",
      "source": [
        "list(filter(lambda x:x%2, val))"
      ],
      "metadata": {
        "colab": {
          "base_uri": "https://localhost:8080/"
        },
        "id": "bhHVbEH2TOkw",
        "outputId": "d538f71f-bc49-436b-8637-d39c9ff99f75"
      },
      "execution_count": null,
      "outputs": [
        {
          "output_type": "execute_result",
          "data": {
            "text/plain": [
              "[5, 7]"
            ]
          },
          "metadata": {},
          "execution_count": 22
        }
      ]
    },
    {
      "cell_type": "code",
      "source": [
        "list(filter(lambda x: x>50,list(range(1,100))))"
      ],
      "metadata": {
        "colab": {
          "base_uri": "https://localhost:8080/"
        },
        "id": "NEus3YOpTOhM",
        "outputId": "0938d994-8ff5-4f64-9155-04dbaae6b85b"
      },
      "execution_count": null,
      "outputs": [
        {
          "output_type": "execute_result",
          "data": {
            "text/plain": [
              "[51,\n",
              " 52,\n",
              " 53,\n",
              " 54,\n",
              " 55,\n",
              " 56,\n",
              " 57,\n",
              " 58,\n",
              " 59,\n",
              " 60,\n",
              " 61,\n",
              " 62,\n",
              " 63,\n",
              " 64,\n",
              " 65,\n",
              " 66,\n",
              " 67,\n",
              " 68,\n",
              " 69,\n",
              " 70,\n",
              " 71,\n",
              " 72,\n",
              " 73,\n",
              " 74,\n",
              " 75,\n",
              " 76,\n",
              " 77,\n",
              " 78,\n",
              " 79,\n",
              " 80,\n",
              " 81,\n",
              " 82,\n",
              " 83,\n",
              " 84,\n",
              " 85,\n",
              " 86,\n",
              " 87,\n",
              " 88,\n",
              " 89,\n",
              " 90,\n",
              " 91,\n",
              " 92,\n",
              " 93,\n",
              " 94,\n",
              " 95,\n",
              " 96,\n",
              " 97,\n",
              " 98,\n",
              " 99]"
            ]
          },
          "metadata": {},
          "execution_count": 24
        }
      ]
    },
    {
      "cell_type": "code",
      "source": [
        "from functools import reduce\n",
        "\n",
        "reduce(lambda x, y : x*y, val)\n"
      ],
      "metadata": {
        "colab": {
          "base_uri": "https://localhost:8080/"
        },
        "id": "3exG8qrMTOeN",
        "outputId": "64a56432-e6e8-4851-c664-cd6a1de3656b"
      },
      "execution_count": null,
      "outputs": [
        {
          "output_type": "execute_result",
          "data": {
            "text/plain": [
              "1680"
            ]
          },
          "metadata": {},
          "execution_count": 25
        }
      ]
    },
    {
      "cell_type": "code",
      "source": [
        "reduce(lambda x,y : x+y , val)"
      ],
      "metadata": {
        "colab": {
          "base_uri": "https://localhost:8080/"
        },
        "id": "uStzzpRpTOX-",
        "outputId": "1a673364-d009-481b-bcfb-5a2805a26e7e"
      },
      "execution_count": null,
      "outputs": [
        {
          "output_type": "execute_result",
          "data": {
            "text/plain": [
              "24"
            ]
          },
          "metadata": {},
          "execution_count": 26
        }
      ]
    },
    {
      "cell_type": "code",
      "source": [
        "help(reduce)"
      ],
      "metadata": {
        "colab": {
          "base_uri": "https://localhost:8080/"
        },
        "id": "X9uPMqNoTOVK",
        "outputId": "a2bfca1f-b3d1-487e-d3ac-7734386695ec"
      },
      "execution_count": null,
      "outputs": [
        {
          "output_type": "stream",
          "name": "stdout",
          "text": [
            "Help on built-in function reduce in module _functools:\n",
            "\n",
            "reduce(...)\n",
            "    reduce(function, iterable[, initial]) -> value\n",
            "    \n",
            "    Apply a function of two arguments cumulatively to the items of a sequence\n",
            "    or iterable, from left to right, so as to reduce the iterable to a single\n",
            "    value.  For example, reduce(lambda x, y: x+y, [1, 2, 3, 4, 5]) calculates\n",
            "    ((((1+2)+3)+4)+5).  If initial is present, it is placed before the items\n",
            "    of the iterable in the calculation, and serves as a default when the\n",
            "    iterable is empty.\n",
            "\n"
          ]
        }
      ]
    },
    {
      "cell_type": "code",
      "source": [
        "list1 = [3,5,6,7,3,5]\n",
        "# loop\n",
        "squares = []\n",
        "for i in list1:\n",
        "  squares.append(i**2)\n",
        "\n",
        "squares"
      ],
      "metadata": {
        "colab": {
          "base_uri": "https://localhost:8080/"
        },
        "id": "ZpoYhDzZTOSh",
        "outputId": "6203418e-fa0f-4078-cb77-95b23dfca6e5"
      },
      "execution_count": null,
      "outputs": [
        {
          "output_type": "execute_result",
          "data": {
            "text/plain": [
              "[9, 25, 36, 49, 9, 25]"
            ]
          },
          "metadata": {},
          "execution_count": 10
        }
      ]
    },
    {
      "cell_type": "code",
      "source": [
        "# comprehension\n",
        "squares1 = [i**2 for i in list1]\n",
        "squares1"
      ],
      "metadata": {
        "colab": {
          "base_uri": "https://localhost:8080/"
        },
        "id": "EAy3PrOBTOPx",
        "outputId": "5fd86d2b-a97a-4190-9ea4-941b384eeb98"
      },
      "execution_count": null,
      "outputs": [
        {
          "output_type": "execute_result",
          "data": {
            "text/plain": [
              "[9, 25, 36, 49, 9, 25]"
            ]
          },
          "metadata": {},
          "execution_count": 33
        }
      ]
    },
    {
      "cell_type": "code",
      "source": [
        "#  map\n",
        "squares2 = list(map(lambda x : x**2, list1))\n",
        "squares2"
      ],
      "metadata": {
        "colab": {
          "base_uri": "https://localhost:8080/"
        },
        "id": "AJzc3EDuTOMt",
        "outputId": "779066e0-a1b7-41f9-acd9-7aed2f0fca55"
      },
      "execution_count": null,
      "outputs": [
        {
          "output_type": "execute_result",
          "data": {
            "text/plain": [
              "[9, 25, 36, 49, 9, 25]"
            ]
          },
          "metadata": {},
          "execution_count": 34
        }
      ]
    },
    {
      "cell_type": "code",
      "source": [
        "import matplotlib.pyplot as plt\n",
        "import numpy as np\n",
        "\n",
        "plt.bar(height=list1, x = np.arange(1,50,1))\n"
      ],
      "metadata": {
        "colab": {
          "base_uri": "https://localhost:8080/",
          "height": 774
        },
        "id": "SCI7CFF_TOJu",
        "outputId": "5cc30176-12e5-4149-a853-80602e15cefd"
      },
      "execution_count": null,
      "outputs": [
        {
          "output_type": "error",
          "ename": "ValueError",
          "evalue": "ignored",
          "traceback": [
            "\u001b[0;31m---------------------------------------------------------------------------\u001b[0m",
            "\u001b[0;31mValueError\u001b[0m                                Traceback (most recent call last)",
            "\u001b[0;32m<ipython-input-11-51022aa84d35>\u001b[0m in \u001b[0;36m<cell line: 4>\u001b[0;34m()\u001b[0m\n\u001b[1;32m      2\u001b[0m \u001b[0;32mimport\u001b[0m \u001b[0mnumpy\u001b[0m \u001b[0;32mas\u001b[0m \u001b[0mnp\u001b[0m\u001b[0;34m\u001b[0m\u001b[0;34m\u001b[0m\u001b[0m\n\u001b[1;32m      3\u001b[0m \u001b[0;34m\u001b[0m\u001b[0m\n\u001b[0;32m----> 4\u001b[0;31m \u001b[0mplt\u001b[0m\u001b[0;34m.\u001b[0m\u001b[0mbar\u001b[0m\u001b[0;34m(\u001b[0m\u001b[0mheight\u001b[0m\u001b[0;34m=\u001b[0m\u001b[0mlist1\u001b[0m\u001b[0;34m,\u001b[0m \u001b[0mx\u001b[0m \u001b[0;34m=\u001b[0m \u001b[0mnp\u001b[0m\u001b[0;34m.\u001b[0m\u001b[0marange\u001b[0m\u001b[0;34m(\u001b[0m\u001b[0;36m1\u001b[0m\u001b[0;34m,\u001b[0m\u001b[0;36m50\u001b[0m\u001b[0;34m,\u001b[0m\u001b[0;36m1\u001b[0m\u001b[0;34m)\u001b[0m\u001b[0;34m)\u001b[0m\u001b[0;34m\u001b[0m\u001b[0;34m\u001b[0m\u001b[0m\n\u001b[0m",
            "\u001b[0;32m/usr/local/lib/python3.10/dist-packages/matplotlib/pyplot.py\u001b[0m in \u001b[0;36mbar\u001b[0;34m(x, height, width, bottom, align, data, **kwargs)\u001b[0m\n\u001b[1;32m   2437\u001b[0m         \u001b[0mx\u001b[0m\u001b[0;34m,\u001b[0m \u001b[0mheight\u001b[0m\u001b[0;34m,\u001b[0m \u001b[0mwidth\u001b[0m\u001b[0;34m=\u001b[0m\u001b[0;36m0.8\u001b[0m\u001b[0;34m,\u001b[0m \u001b[0mbottom\u001b[0m\u001b[0;34m=\u001b[0m\u001b[0;32mNone\u001b[0m\u001b[0;34m,\u001b[0m \u001b[0;34m*\u001b[0m\u001b[0;34m,\u001b[0m \u001b[0malign\u001b[0m\u001b[0;34m=\u001b[0m\u001b[0;34m'center'\u001b[0m\u001b[0;34m,\u001b[0m\u001b[0;34m\u001b[0m\u001b[0;34m\u001b[0m\u001b[0m\n\u001b[1;32m   2438\u001b[0m         data=None, **kwargs):\n\u001b[0;32m-> 2439\u001b[0;31m     return gca().bar(\n\u001b[0m\u001b[1;32m   2440\u001b[0m         \u001b[0mx\u001b[0m\u001b[0;34m,\u001b[0m \u001b[0mheight\u001b[0m\u001b[0;34m,\u001b[0m \u001b[0mwidth\u001b[0m\u001b[0;34m=\u001b[0m\u001b[0mwidth\u001b[0m\u001b[0;34m,\u001b[0m \u001b[0mbottom\u001b[0m\u001b[0;34m=\u001b[0m\u001b[0mbottom\u001b[0m\u001b[0;34m,\u001b[0m \u001b[0malign\u001b[0m\u001b[0;34m=\u001b[0m\u001b[0malign\u001b[0m\u001b[0;34m,\u001b[0m\u001b[0;34m\u001b[0m\u001b[0;34m\u001b[0m\u001b[0m\n\u001b[1;32m   2441\u001b[0m         **({\"data\": data} if data is not None else {}), **kwargs)\n",
            "\u001b[0;32m/usr/local/lib/python3.10/dist-packages/matplotlib/__init__.py\u001b[0m in \u001b[0;36minner\u001b[0;34m(ax, data, *args, **kwargs)\u001b[0m\n\u001b[1;32m   1440\u001b[0m     \u001b[0;32mdef\u001b[0m \u001b[0minner\u001b[0m\u001b[0;34m(\u001b[0m\u001b[0max\u001b[0m\u001b[0;34m,\u001b[0m \u001b[0;34m*\u001b[0m\u001b[0margs\u001b[0m\u001b[0;34m,\u001b[0m \u001b[0mdata\u001b[0m\u001b[0;34m=\u001b[0m\u001b[0;32mNone\u001b[0m\u001b[0;34m,\u001b[0m \u001b[0;34m**\u001b[0m\u001b[0mkwargs\u001b[0m\u001b[0;34m)\u001b[0m\u001b[0;34m:\u001b[0m\u001b[0;34m\u001b[0m\u001b[0;34m\u001b[0m\u001b[0m\n\u001b[1;32m   1441\u001b[0m         \u001b[0;32mif\u001b[0m \u001b[0mdata\u001b[0m \u001b[0;32mis\u001b[0m \u001b[0;32mNone\u001b[0m\u001b[0;34m:\u001b[0m\u001b[0;34m\u001b[0m\u001b[0;34m\u001b[0m\u001b[0m\n\u001b[0;32m-> 1442\u001b[0;31m             \u001b[0;32mreturn\u001b[0m \u001b[0mfunc\u001b[0m\u001b[0;34m(\u001b[0m\u001b[0max\u001b[0m\u001b[0;34m,\u001b[0m \u001b[0;34m*\u001b[0m\u001b[0mmap\u001b[0m\u001b[0;34m(\u001b[0m\u001b[0msanitize_sequence\u001b[0m\u001b[0;34m,\u001b[0m \u001b[0margs\u001b[0m\u001b[0;34m)\u001b[0m\u001b[0;34m,\u001b[0m \u001b[0;34m**\u001b[0m\u001b[0mkwargs\u001b[0m\u001b[0;34m)\u001b[0m\u001b[0;34m\u001b[0m\u001b[0;34m\u001b[0m\u001b[0m\n\u001b[0m\u001b[1;32m   1443\u001b[0m \u001b[0;34m\u001b[0m\u001b[0m\n\u001b[1;32m   1444\u001b[0m         \u001b[0mbound\u001b[0m \u001b[0;34m=\u001b[0m \u001b[0mnew_sig\u001b[0m\u001b[0;34m.\u001b[0m\u001b[0mbind\u001b[0m\u001b[0;34m(\u001b[0m\u001b[0max\u001b[0m\u001b[0;34m,\u001b[0m \u001b[0;34m*\u001b[0m\u001b[0margs\u001b[0m\u001b[0;34m,\u001b[0m \u001b[0;34m**\u001b[0m\u001b[0mkwargs\u001b[0m\u001b[0;34m)\u001b[0m\u001b[0;34m\u001b[0m\u001b[0;34m\u001b[0m\u001b[0m\n",
            "\u001b[0;32m/usr/local/lib/python3.10/dist-packages/matplotlib/axes/_axes.py\u001b[0m in \u001b[0;36mbar\u001b[0;34m(self, x, height, width, bottom, align, **kwargs)\u001b[0m\n\u001b[1;32m   2415\u001b[0m                 \u001b[0myerr\u001b[0m \u001b[0;34m=\u001b[0m \u001b[0mself\u001b[0m\u001b[0;34m.\u001b[0m\u001b[0m_convert_dx\u001b[0m\u001b[0;34m(\u001b[0m\u001b[0myerr\u001b[0m\u001b[0;34m,\u001b[0m \u001b[0my0\u001b[0m\u001b[0;34m,\u001b[0m \u001b[0my\u001b[0m\u001b[0;34m,\u001b[0m \u001b[0mself\u001b[0m\u001b[0;34m.\u001b[0m\u001b[0mconvert_yunits\u001b[0m\u001b[0;34m)\u001b[0m\u001b[0;34m\u001b[0m\u001b[0;34m\u001b[0m\u001b[0m\n\u001b[1;32m   2416\u001b[0m \u001b[0;34m\u001b[0m\u001b[0m\n\u001b[0;32m-> 2417\u001b[0;31m         x, height, width, y, linewidth, hatch = np.broadcast_arrays(\n\u001b[0m\u001b[1;32m   2418\u001b[0m             \u001b[0;31m# Make args iterable too.\u001b[0m\u001b[0;34m\u001b[0m\u001b[0;34m\u001b[0m\u001b[0m\n\u001b[1;32m   2419\u001b[0m             np.atleast_1d(x), height, width, y, linewidth, hatch)\n",
            "\u001b[0;32m/usr/local/lib/python3.10/dist-packages/numpy/core/overrides.py\u001b[0m in \u001b[0;36mbroadcast_arrays\u001b[0;34m(*args, **kwargs)\u001b[0m\n",
            "\u001b[0;32m/usr/local/lib/python3.10/dist-packages/numpy/lib/stride_tricks.py\u001b[0m in \u001b[0;36mbroadcast_arrays\u001b[0;34m(subok, *args)\u001b[0m\n\u001b[1;32m    538\u001b[0m     \u001b[0margs\u001b[0m \u001b[0;34m=\u001b[0m \u001b[0;34m[\u001b[0m\u001b[0mnp\u001b[0m\u001b[0;34m.\u001b[0m\u001b[0marray\u001b[0m\u001b[0;34m(\u001b[0m\u001b[0m_m\u001b[0m\u001b[0;34m,\u001b[0m \u001b[0mcopy\u001b[0m\u001b[0;34m=\u001b[0m\u001b[0;32mFalse\u001b[0m\u001b[0;34m,\u001b[0m \u001b[0msubok\u001b[0m\u001b[0;34m=\u001b[0m\u001b[0msubok\u001b[0m\u001b[0;34m)\u001b[0m \u001b[0;32mfor\u001b[0m \u001b[0m_m\u001b[0m \u001b[0;32min\u001b[0m \u001b[0margs\u001b[0m\u001b[0;34m]\u001b[0m\u001b[0;34m\u001b[0m\u001b[0;34m\u001b[0m\u001b[0m\n\u001b[1;32m    539\u001b[0m \u001b[0;34m\u001b[0m\u001b[0m\n\u001b[0;32m--> 540\u001b[0;31m     \u001b[0mshape\u001b[0m \u001b[0;34m=\u001b[0m \u001b[0m_broadcast_shape\u001b[0m\u001b[0;34m(\u001b[0m\u001b[0;34m*\u001b[0m\u001b[0margs\u001b[0m\u001b[0;34m)\u001b[0m\u001b[0;34m\u001b[0m\u001b[0;34m\u001b[0m\u001b[0m\n\u001b[0m\u001b[1;32m    541\u001b[0m \u001b[0;34m\u001b[0m\u001b[0m\n\u001b[1;32m    542\u001b[0m     \u001b[0;32mif\u001b[0m \u001b[0mall\u001b[0m\u001b[0;34m(\u001b[0m\u001b[0marray\u001b[0m\u001b[0;34m.\u001b[0m\u001b[0mshape\u001b[0m \u001b[0;34m==\u001b[0m \u001b[0mshape\u001b[0m \u001b[0;32mfor\u001b[0m \u001b[0marray\u001b[0m \u001b[0;32min\u001b[0m \u001b[0margs\u001b[0m\u001b[0;34m)\u001b[0m\u001b[0;34m:\u001b[0m\u001b[0;34m\u001b[0m\u001b[0;34m\u001b[0m\u001b[0m\n",
            "\u001b[0;32m/usr/local/lib/python3.10/dist-packages/numpy/lib/stride_tricks.py\u001b[0m in \u001b[0;36m_broadcast_shape\u001b[0;34m(*args)\u001b[0m\n\u001b[1;32m    420\u001b[0m     \u001b[0;31m# use the old-iterator because np.nditer does not handle size 0 arrays\u001b[0m\u001b[0;34m\u001b[0m\u001b[0;34m\u001b[0m\u001b[0m\n\u001b[1;32m    421\u001b[0m     \u001b[0;31m# consistently\u001b[0m\u001b[0;34m\u001b[0m\u001b[0;34m\u001b[0m\u001b[0m\n\u001b[0;32m--> 422\u001b[0;31m     \u001b[0mb\u001b[0m \u001b[0;34m=\u001b[0m \u001b[0mnp\u001b[0m\u001b[0;34m.\u001b[0m\u001b[0mbroadcast\u001b[0m\u001b[0;34m(\u001b[0m\u001b[0;34m*\u001b[0m\u001b[0margs\u001b[0m\u001b[0;34m[\u001b[0m\u001b[0;34m:\u001b[0m\u001b[0;36m32\u001b[0m\u001b[0;34m]\u001b[0m\u001b[0;34m)\u001b[0m\u001b[0;34m\u001b[0m\u001b[0;34m\u001b[0m\u001b[0m\n\u001b[0m\u001b[1;32m    423\u001b[0m     \u001b[0;31m# unfortunately, it cannot handle 32 or more arguments directly\u001b[0m\u001b[0;34m\u001b[0m\u001b[0;34m\u001b[0m\u001b[0m\n\u001b[1;32m    424\u001b[0m     \u001b[0;32mfor\u001b[0m \u001b[0mpos\u001b[0m \u001b[0;32min\u001b[0m \u001b[0mrange\u001b[0m\u001b[0;34m(\u001b[0m\u001b[0;36m32\u001b[0m\u001b[0;34m,\u001b[0m \u001b[0mlen\u001b[0m\u001b[0;34m(\u001b[0m\u001b[0margs\u001b[0m\u001b[0;34m)\u001b[0m\u001b[0;34m,\u001b[0m \u001b[0;36m31\u001b[0m\u001b[0;34m)\u001b[0m\u001b[0;34m:\u001b[0m\u001b[0;34m\u001b[0m\u001b[0;34m\u001b[0m\u001b[0m\n",
            "\u001b[0;31mValueError\u001b[0m: shape mismatch: objects cannot be broadcast to a single shape.  Mismatch is between arg 0 with shape (49,) and arg 1 with shape (6,)."
          ]
        },
        {
          "output_type": "display_data",
          "data": {
            "text/plain": [
              "<Figure size 640x480 with 1 Axes>"
            ],
            "image/png": "[encoded data removed]"
          },
          "metadata": {}
        }
      ]
    },
    {
      "cell_type": "code",
      "source": [
        "num = 12\n",
        "str = t"
      ],
      "metadata": {
        "colab": {
          "base_uri": "https://localhost:8080/",
          "height": 193
        },
        "id": "IpTZjU0OTOD6",
        "outputId": "ceaac040-b4c9-4880-cf71-b0e11abeb3ca"
      },
      "execution_count": null,
      "outputs": [
        {
          "output_type": "error",
          "ename": "AttributeError",
          "evalue": "ignored",
          "traceback": [
            "\u001b[0;31m---------------------------------------------------------------------------\u001b[0m",
            "\u001b[0;31mAttributeError\u001b[0m                            Traceback (most recent call last)",
            "\u001b[0;32m<ipython-input-14-09f9d7dfb9c9>\u001b[0m in \u001b[0;36m<cell line: 2>\u001b[0;34m()\u001b[0m\n\u001b[1;32m      1\u001b[0m \u001b[0mnum\u001b[0m \u001b[0;34m=\u001b[0m \u001b[0;36m12\u001b[0m\u001b[0;34m\u001b[0m\u001b[0;34m\u001b[0m\u001b[0m\n\u001b[0;32m----> 2\u001b[0;31m \u001b[0mstr\u001b[0m \u001b[0;34m=\u001b[0m \u001b[0mnum\u001b[0m\u001b[0;34m.\u001b[0m\u001b[0mastype\u001b[0m\u001b[0;34m(\u001b[0m\u001b[0mstr\u001b[0m\u001b[0;34m)\u001b[0m\u001b[0;34m\u001b[0m\u001b[0;34m\u001b[0m\u001b[0m\n\u001b[0m",
            "\u001b[0;31mAttributeError\u001b[0m: 'int' object has no attribute 'astype'"
          ]
        }
      ]
    },
    {
      "cell_type": "code",
      "source": [
        "list(map(lambda x : x**2, np.arange(1,20)))"
      ],
      "metadata": {
        "colab": {
          "base_uri": "https://localhost:8080/"
        },
        "id": "NR_D3d7oTOBR",
        "outputId": "dfc12402-b219-412b-e74a-e1b9fe9e2a18"
      },
      "execution_count": null,
      "outputs": [
        {
          "output_type": "execute_result",
          "data": {
            "text/plain": [
              "[1,\n",
              " 4,\n",
              " 9,\n",
              " 16,\n",
              " 25,\n",
              " 36,\n",
              " 49,\n",
              " 64,\n",
              " 81,\n",
              " 100,\n",
              " 121,\n",
              " 144,\n",
              " 169,\n",
              " 196,\n",
              " 225,\n",
              " 256,\n",
              " 289,\n",
              " 324,\n",
              " 361]"
            ]
          },
          "metadata": {},
          "execution_count": 15
        }
      ]
    },
    {
      "cell_type": "code",
      "source": [
        "# to access doc in colab\n",
        "\n",
        "from google.colab import drive\n",
        "drive.mount('/content/drive')"
      ],
      "metadata": {
        "id": "yIV9mt47TN-T",
        "colab": {
          "base_uri": "https://localhost:8080/"
        },
        "outputId": "98362e6d-74d1-49bc-d413-65106f003298"
      },
      "execution_count": null,
      "outputs": [
        {
          "output_type": "stream",
          "name": "stdout",
          "text": [
            "Mounted at /content/drive\n"
          ]
        }
      ]
    },
    {
      "cell_type": "code",
      "source": [
        "# file handling #\n",
        "\n",
        "''' the open function takes 2 parameters - filename and mode\n",
        "- 4 different methods for opening a file\n",
        "\n",
        "\"r\" - reads a default file\n",
        "\"a\" - opens the file for append and creates a file if doesn't exist\n",
        "\"w\" - write - opens a file for writing\n",
        "\"x\" - creates a file\n",
        "\n",
        "'''\n",
        "\n",
        "f = open(\"/content/drive/MyDrive/demo1.txt\", mode = \"r\")\n",
        "f"
      ],
      "metadata": {
        "id": "CSniriYDTN7A",
        "colab": {
          "base_uri": "https://localhost:8080/",
          "height": 228
        },
        "outputId": "d71f7740-4788-402e-9209-43821a61ff87"
      },
      "execution_count": null,
      "outputs": [
        {
          "output_type": "error",
          "ename": "FileNotFoundError",
          "evalue": "ignored",
          "traceback": [
            "\u001b[0;31m---------------------------------------------------------------------------\u001b[0m",
            "\u001b[0;31mFileNotFoundError\u001b[0m                         Traceback (most recent call last)",
            "\u001b[0;32m<ipython-input-2-43742fc6e52d>\u001b[0m in \u001b[0;36m<cell line: 13>\u001b[0;34m()\u001b[0m\n\u001b[1;32m     11\u001b[0m '''\n\u001b[1;32m     12\u001b[0m \u001b[0;34m\u001b[0m\u001b[0m\n\u001b[0;32m---> 13\u001b[0;31m \u001b[0mf\u001b[0m \u001b[0;34m=\u001b[0m \u001b[0mopen\u001b[0m\u001b[0;34m(\u001b[0m\u001b[0;34m\"/content/drive/MyDrive/demo1.txt\"\u001b[0m\u001b[0;34m,\u001b[0m \u001b[0mmode\u001b[0m \u001b[0;34m=\u001b[0m \u001b[0;34m\"r\"\u001b[0m\u001b[0;34m)\u001b[0m\u001b[0;34m\u001b[0m\u001b[0;34m\u001b[0m\u001b[0m\n\u001b[0m\u001b[1;32m     14\u001b[0m \u001b[0mf\u001b[0m\u001b[0;34m\u001b[0m\u001b[0;34m\u001b[0m\u001b[0m\n",
            "\u001b[0;31mFileNotFoundError\u001b[0m: [Errno 2] No such file or directory: '/content/drive/MyDrive/demo1.txt'"
          ]
        }
      ]
    },
    {
      "cell_type": "code",
      "source": [
        "f = open(\"/content/drive/MyDrive/demo1.txt\", mode = \"a\")\n",
        "f\n",
        "f.write(\"Hi .. I am txt file\")"
      ],
      "metadata": {
        "id": "DrrlDvJATN3s",
        "colab": {
          "base_uri": "https://localhost:8080/"
        },
        "outputId": "69b61948-32f7-42bb-f168-342d544acaf9"
      },
      "execution_count": null,
      "outputs": [
        {
          "output_type": "execute_result",
          "data": {
            "text/plain": [
              "<_io.TextIOWrapper name='/content/drive/MyDrive/demo1.txt' mode='a' encoding='UTF-8'>"
            ]
          },
          "metadata": {},
          "execution_count": 5
        }
      ]
    },
    {
      "cell_type": "code",
      "source": [
        "with open(\"/content/drive/MyDrive/demo1.txt\", mode = \"r\") as file:\n",
        "  fl = file.read()\n"
      ],
      "metadata": {
        "id": "aHXJxkvfTN0f"
      },
      "execution_count": null,
      "outputs": []
    },
    {
      "cell_type": "code",
      "source": [
        "fl"
      ],
      "metadata": {
        "id": "_dtg4yu3TNxG",
        "colab": {
          "base_uri": "https://localhost:8080/",
          "height": 35
        },
        "outputId": "4bf25ae7-a518-4578-f1a7-aae8ea2fb647"
      },
      "execution_count": null,
      "outputs": [
        {
          "output_type": "execute_result",
          "data": {
            "text/plain": [
              "'Hi .. I am txt file'"
            ],
            "application/vnd.google.colaboratory.intrinsic+json": {
              "type": "string"
            }
          },
          "metadata": {},
          "execution_count": 8
        }
      ]
    },
    {
      "cell_type": "code",
      "source": [
        "f = open(\"/content/drive/MyDrive/demo1.txt\")\n",
        "f.readline()"
      ],
      "metadata": {
        "colab": {
          "base_uri": "https://localhost:8080/",
          "height": 35
        },
        "id": "hH7bd9ZqZ2oZ",
        "outputId": "a3a011a9-0321-4886-b296-73a564ef2a29"
      },
      "execution_count": null,
      "outputs": [
        {
          "output_type": "execute_result",
          "data": {
            "text/plain": [
              "'Hi .. I am txt file'"
            ],
            "application/vnd.google.colaboratory.intrinsic+json": {
              "type": "string"
            }
          },
          "metadata": {},
          "execution_count": 10
        }
      ]
    },
    {
      "cell_type": "code",
      "source": [
        "f.readline()   #for second line and so on"
      ],
      "metadata": {
        "colab": {
          "base_uri": "https://localhost:8080/",
          "height": 35
        },
        "id": "r4zn5LIMZ3HV",
        "outputId": "67a8b578-3b5b-4e94-c444-00662cc38b60"
      },
      "execution_count": null,
      "outputs": [
        {
          "output_type": "execute_result",
          "data": {
            "text/plain": [
              "''"
            ],
            "application/vnd.google.colaboratory.intrinsic+json": {
              "type": "string"
            }
          },
          "metadata": {},
          "execution_count": 12
        }
      ]
    },
    {
      "cell_type": "code",
      "source": [
        "f = open('/content/drive/MyDrive/demo1.txt')\n",
        "f.readlines()\n"
      ],
      "metadata": {
        "colab": {
          "base_uri": "https://localhost:8080/"
        },
        "id": "j94gQJ6HZ3fZ",
        "outputId": "55365a51-6453-454b-d711-12314bec19b0"
      },
      "execution_count": null,
      "outputs": [
        {
          "output_type": "execute_result",
          "data": {
            "text/plain": [
              "['Hi .. I am txt file']"
            ]
          },
          "metadata": {},
          "execution_count": 14
        }
      ]
    },
    {
      "cell_type": "code",
      "source": [
        "f = open('/content/drive/MyDrive/demo1.txt', mode= 'w')\n",
        "f.write(\"\\n other text\")"
      ],
      "metadata": {
        "colab": {
          "base_uri": "https://localhost:8080/",
          "height": 211
        },
        "id": "aeWWYA4BZ3i_",
        "outputId": "1fde8c11-7cdd-4a79-e929-d569eb8571ed"
      },
      "execution_count": null,
      "outputs": [
        {
          "output_type": "error",
          "ename": "UnsupportedOperation",
          "evalue": "ignored",
          "traceback": [
            "\u001b[0;31m---------------------------------------------------------------------------\u001b[0m",
            "\u001b[0;31mUnsupportedOperation\u001b[0m                      Traceback (most recent call last)",
            "\u001b[0;32m<ipython-input-16-7b579cde01a3>\u001b[0m in \u001b[0;36m<cell line: 3>\u001b[0;34m()\u001b[0m\n\u001b[1;32m      1\u001b[0m \u001b[0mf\u001b[0m \u001b[0;34m=\u001b[0m \u001b[0mopen\u001b[0m\u001b[0;34m(\u001b[0m\u001b[0;34m'/content/drive/MyDrive/demo1.txt'\u001b[0m\u001b[0;34m,\u001b[0m \u001b[0mmode\u001b[0m\u001b[0;34m=\u001b[0m \u001b[0;34m'w'\u001b[0m\u001b[0;34m)\u001b[0m\u001b[0;34m\u001b[0m\u001b[0;34m\u001b[0m\u001b[0m\n\u001b[1;32m      2\u001b[0m \u001b[0mf\u001b[0m\u001b[0;34m.\u001b[0m\u001b[0mwrite\u001b[0m\u001b[0;34m(\u001b[0m\u001b[0;34m\"\\n other text\"\u001b[0m\u001b[0;34m)\u001b[0m\u001b[0;34m\u001b[0m\u001b[0;34m\u001b[0m\u001b[0m\n\u001b[0;32m----> 3\u001b[0;31m \u001b[0mprint\u001b[0m\u001b[0;34m(\u001b[0m\u001b[0mf\u001b[0m\u001b[0;34m.\u001b[0m\u001b[0mread\u001b[0m\u001b[0;34m(\u001b[0m\u001b[0;34m)\u001b[0m\u001b[0;34m)\u001b[0m\u001b[0;34m\u001b[0m\u001b[0;34m\u001b[0m\u001b[0m\n\u001b[0m",
            "\u001b[0;31mUnsupportedOperation\u001b[0m: not readable"
          ]
        }
      ]
    },
    {
      "cell_type": "code",
      "source": [
        "f = open('/content/drive/MyDrive/demo1.txt')\n",
        "print(f.read())\n",
        "f.close()\n"
      ],
      "metadata": {
        "colab": {
          "base_uri": "https://localhost:8080/"
        },
        "id": "7Id9kB91Z4q5",
        "outputId": "58bbf406-4fc2-4469-8876-af0eee981bb2"
      },
      "execution_count": null,
      "outputs": [
        {
          "output_type": "stream",
          "name": "stdout",
          "text": [
            "\n",
            " other text\n"
          ]
        }
      ]
    },
    {
      "cell_type": "code",
      "source": [
        "f = open('/content/drive/MyDrive/demo1.txt', \"a\")\n",
        "f.write(\"\\nNow the file has more content!!\")\n",
        "f.close()\n",
        "\n",
        "f = open('/content/drive/MyDrive/demo1.txt')\n",
        "print(f.read())"
      ],
      "metadata": {
        "colab": {
          "base_uri": "https://localhost:8080/"
        },
        "id": "nz4knQ8UZ4fJ",
        "outputId": "36a27b2c-7f5d-4625-afda-94eb4611cacd"
      },
      "execution_count": null,
      "outputs": [
        {
          "output_type": "stream",
          "name": "stdout",
          "text": [
            "\n",
            " other text\n",
            "Now the file has more content!!\n"
          ]
        }
      ]
    },
    {
      "cell_type": "code",
      "source": [
        "f =open('/content/drive/MyDrive/demo2.txt', \"x\")        #to create\n",
        "f.write(\"New file content\")\n",
        "f.close()"
      ],
      "metadata": {
        "id": "n6tiKHUqZ3_r"
      },
      "execution_count": null,
      "outputs": []
    },
    {
      "cell_type": "code",
      "source": [
        "import os\n",
        "\n",
        "#  to delete a file\n",
        "os.remove('/content/drive/MyDrive/demo1.txt')"
      ],
      "metadata": {
        "id": "Of5TxtY4cV4E"
      },
      "execution_count": null,
      "outputs": []
    },
    {
      "cell_type": "markdown",
      "source": [
        "Exception Handling"
      ],
      "metadata": {
        "id": "pN5rUwiWdUHG"
      }
    },
    {
      "cell_type": "code",
      "source": [
        "try:\n",
        "  x = eval(input(\"enter the first value = \"))\n",
        "  y = eval(input(\"enter the second value = \"))\n",
        "  print( x+y)\n",
        "except:\n",
        "  print(\"Please enter valid number\")"
      ],
      "metadata": {
        "colab": {
          "base_uri": "https://localhost:8080/"
        },
        "id": "DkBf5PWecV0w",
        "outputId": "8f91f4b9-3159-4d7c-ff61-883899e20082"
      },
      "execution_count": null,
      "outputs": [
        {
          "output_type": "stream",
          "name": "stdout",
          "text": [
            "enter the first value = 2.0\n",
            "enter the second value = 62\n",
            "64.0\n"
          ]
        }
      ]
    },
    {
      "cell_type": "code",
      "source": [
        "try:\n",
        "  x = eval(input(\"enter the first value = \"))\n",
        "  y = eval(input(\"enter the second value = \"))\n",
        "  print( x+y)\n",
        "except(NameError):\n",
        "  print(\"Please enter valid number\")\n",
        "except(ZeroDivisionError):\n",
        "  print(\"Please enter a non-zero value\")\n",
        "except(TypeError):\n",
        "  print(\"Please enter value with same data type\")"
      ],
      "metadata": {
        "colab": {
          "base_uri": "https://localhost:8080/"
        },
        "id": "mz0lsVYMcVxt",
        "outputId": "94feae0b-1373-4397-97d6-b9c37066c996"
      },
      "execution_count": null,
      "outputs": [
        {
          "output_type": "stream",
          "name": "stdout",
          "text": [
            "enter the first value = 5\n",
            "enter the second value = \"a\"\n",
            "Please enter value with same data type\n"
          ]
        }
      ]
    },
    {
      "cell_type": "code",
      "source": [
        "# object\n",
        "x=10\n",
        "print(x)"
      ],
      "metadata": {
        "id": "4Jh0piTPcVuy",
        "colab": {
          "base_uri": "https://localhost:8080/"
        },
        "outputId": "d81fbbfa-4d38-4446-ac3f-1e0e16f1c483"
      },
      "execution_count": null,
      "outputs": [
        {
          "output_type": "stream",
          "name": "stdout",
          "text": [
            "10\n"
          ]
        }
      ]
    },
    {
      "cell_type": "code",
      "source": [
        "# class\n",
        "\n",
        "class bike:\n",
        "  def __init__(self, mpg, Speed, length,b):\n",
        "    self.mpg = mpg\n",
        "    self.Speed = Speed\n",
        "    self.length = length\n",
        "    self.b = b\n",
        "\n",
        "  def get_mpg(self):\n",
        "    print(self.mpg)\n",
        "\n",
        "  def area(self):\n",
        "    return self.length* self.b\n",
        "\n",
        "  def config(self):\n",
        "    print(\"1000cc , abs\")\n",
        "\n",
        "  def speed(self):\n",
        "    print(\"Top speed is 250 kmph\")\n"
      ],
      "metadata": {
        "id": "IxhMqgw0cVr5"
      },
      "execution_count": null,
      "outputs": []
    },
    {
      "cell_type": "code",
      "source": [
        "comp1 = bike(55,202,1, 0.55)\n",
        "\n",
        "print(comp1.area())"
      ],
      "metadata": {
        "id": "-NchNgzBcVox",
        "colab": {
          "base_uri": "https://localhost:8080/"
        },
        "outputId": "b1dde0fb-a3ec-4d1d-84a4-4aa93c951f06"
      },
      "execution_count": null,
      "outputs": [
        {
          "output_type": "stream",
          "name": "stdout",
          "text": [
            "0.55\n"
          ]
        }
      ]
    },
    {
      "cell_type": "code",
      "source": [
        "comp1.config()"
      ],
      "metadata": {
        "id": "M1SyZ9oKcVlY",
        "colab": {
          "base_uri": "https://localhost:8080/"
        },
        "outputId": "58db6d6f-7558-458b-caa0-72279cd74673"
      },
      "execution_count": null,
      "outputs": [
        {
          "output_type": "stream",
          "name": "stdout",
          "text": [
            "1000cc , abs\n"
          ]
        }
      ]
    },
    {
      "cell_type": "code",
      "source": [
        "comp1.get_mpg()"
      ],
      "metadata": {
        "id": "Qcp6r2-VcVbp",
        "colab": {
          "base_uri": "https://localhost:8080/"
        },
        "outputId": "14f07a2b-998c-4625-b369-7da2f6109407"
      },
      "execution_count": null,
      "outputs": [
        {
          "output_type": "stream",
          "name": "stdout",
          "text": [
            "55\n"
          ]
        }
      ]
    },
    {
      "cell_type": "code",
      "source": [
        "comp1.speed()"
      ],
      "metadata": {
        "colab": {
          "base_uri": "https://localhost:8080/"
        },
        "id": "np9A7BBrgHtL",
        "outputId": "ba831a79-91e8-4818-eb09-1a10380b6874"
      },
      "execution_count": null,
      "outputs": [
        {
          "output_type": "stream",
          "name": "stdout",
          "text": [
            "Top speed is 250 kmph\n"
          ]
        }
      ]
    },
    {
      "cell_type": "code",
      "source": [
        "# Inheritance\n",
        "\n",
        "class A:\n",
        "  def product1(self):\n",
        "    print(\"product 1\")\n",
        "  def product2(self):\n",
        "    print(\"Product 2\")"
      ],
      "metadata": {
        "id": "a005GJl-gHqo"
      },
      "execution_count": null,
      "outputs": []
    },
    {
      "cell_type": "code",
      "source": [
        "a = A()\n",
        "print(id(a))\n",
        "\n",
        "a.product1()"
      ],
      "metadata": {
        "colab": {
          "base_uri": "https://localhost:8080/"
        },
        "id": "DQcuY7uSgHnu",
        "outputId": "98505685-9eab-49fa-b101-6d4acfbbd595"
      },
      "execution_count": null,
      "outputs": [
        {
          "output_type": "stream",
          "name": "stdout",
          "text": [
            "132767841600032\n",
            "product 1\n"
          ]
        }
      ]
    },
    {
      "cell_type": "code",
      "source": [
        "class B(A):\n",
        "  def product3(self):\n",
        "    print(\"product 3\")\n",
        "  def product4(self):\n",
        "    print(\"product 4\")"
      ],
      "metadata": {
        "id": "sDN_vS0AgHkI"
      },
      "execution_count": null,
      "outputs": []
    },
    {
      "cell_type": "code",
      "source": [
        "b = B()\n",
        "print(id(b))\n",
        "\n",
        "b.product3()\n",
        "b.product1()"
      ],
      "metadata": {
        "colab": {
          "base_uri": "https://localhost:8080/"
        },
        "id": "y8ohWIDvgHg7",
        "outputId": "449000e4-0303-420a-85e9-f9da493e9822"
      },
      "execution_count": null,
      "outputs": [
        {
          "output_type": "stream",
          "name": "stdout",
          "text": [
            "132767841606848\n",
            "product 3\n",
            "product 1\n"
          ]
        }
      ]
    },
    {
      "cell_type": "code",
      "source": [
        "class C():\n",
        "  def product5(self):\n",
        "    print(\"product 5\")\n",
        "  def product6(self):\n",
        "    print(\"product 6\")"
      ],
      "metadata": {
        "id": "yKqI0P4ggHct"
      },
      "execution_count": null,
      "outputs": []
    },
    {
      "cell_type": "code",
      "source": [
        "class D(A, C):\n",
        "  def product7(self):\n",
        "    print(\"product 7\")\n",
        "  def product8(self):\n",
        "    print(\"product 8\")"
      ],
      "metadata": {
        "id": "V_DiGl3sgHZ5"
      },
      "execution_count": null,
      "outputs": []
    },
    {
      "cell_type": "code",
      "source": [
        "d= D()\n",
        "d.product1()\n",
        "d.product5()\n",
        "d.product7()"
      ],
      "metadata": {
        "colab": {
          "base_uri": "https://localhost:8080/"
        },
        "id": "cPNuO4EOgHVx",
        "outputId": "03ea15e5-6001-4641-e3f2-d9f1ee385715"
      },
      "execution_count": null,
      "outputs": [
        {
          "output_type": "stream",
          "name": "stdout",
          "text": [
            "product 1\n",
            "product 5\n",
            "product 7\n"
          ]
        }
      ]
    },
    {
      "cell_type": "markdown",
      "source": [
        "Polymorphism"
      ],
      "metadata": {
        "id": "YMuWx0x2n5m1"
      }
    },
    {
      "cell_type": "code",
      "source": [
        "class Bird:\n",
        "  def intro(self):\n",
        "    print(\"There are many types of birds.\")\n",
        "\n",
        "  def flight(self):\n",
        "    print(\"Most of the birds can fly but some cannot\")"
      ],
      "metadata": {
        "id": "kQrC4MdAgHSW"
      },
      "execution_count": null,
      "outputs": []
    },
    {
      "cell_type": "code",
      "source": [
        "class sparrow(Bird):\n",
        "  def flight(self):\n",
        "    print(\"sparrow can fly\")\n",
        "\n",
        "class ostrich(Bird):\n",
        "  def flight(self):\n",
        "    print(\"Ostriches cannot fly\")"
      ],
      "metadata": {
        "id": "JWl4NvAtgHPR"
      },
      "execution_count": null,
      "outputs": []
    },
    {
      "cell_type": "code",
      "source": [
        "obj_bird = Bird()\n",
        "obj_spr = sparrow()\n",
        "obj_ost = ostrich()"
      ],
      "metadata": {
        "id": "XfPQn4JygHKG"
      },
      "execution_count": null,
      "outputs": []
    },
    {
      "cell_type": "code",
      "source": [
        "obj_bird.intro()\n",
        "obj_bird.flight()"
      ],
      "metadata": {
        "colab": {
          "base_uri": "https://localhost:8080/"
        },
        "id": "pbtasrSBgHGD",
        "outputId": "5c4affb6-c9c7-431c-8745-866b6a7e4bf9"
      },
      "execution_count": null,
      "outputs": [
        {
          "output_type": "stream",
          "name": "stdout",
          "text": [
            "There are many types of birds.\n",
            "Most of the birds can fly but some cannot\n"
          ]
        }
      ]
    },
    {
      "cell_type": "code",
      "source": [
        "obj_spr.intro()\n",
        "obj_spr.flight()\n",
        "obj_ost.flight()"
      ],
      "metadata": {
        "colab": {
          "base_uri": "https://localhost:8080/"
        },
        "id": "86RR49xjnjjd",
        "outputId": "e18b025c-05d9-4461-a651-8ad01b3b3094"
      },
      "execution_count": null,
      "outputs": [
        {
          "output_type": "stream",
          "name": "stdout",
          "text": [
            "There are many types of birds.\n",
            "sparrow can fly\n",
            "Ostriches cannot fly\n"
          ]
        }
      ]
    },
    {
      "cell_type": "markdown",
      "source": [
        "Multi Threading"
      ],
      "metadata": {
        "id": "4XuWQYCDpF1p"
      }
    },
    {
      "cell_type": "code",
      "source": [
        "import time\n",
        "\n",
        "def calc_square(numbers):\n",
        "  print(\"Calculate square of numbers \")\n",
        "  for n in numbers:\n",
        "    time.sleep(0.2)\n",
        "    print(\"square: \", n*n)\n",
        "def calc_cube(numbers):\n",
        "  print(\"calculate cube of numbers \")\n",
        "  for n in numbers:\n",
        "    time.sleep(0.1)\n",
        "    print('cube: ', n*n*n)"
      ],
      "metadata": {
        "id": "qjKqQcr9njgm"
      },
      "execution_count": null,
      "outputs": []
    },
    {
      "cell_type": "code",
      "source": [
        "arr = [2,5,7,8]\n",
        "\n",
        "t = time.time()       # time in seconds from 1 jan 1970 to present\n",
        "\n",
        "calc_square(arr)"
      ],
      "metadata": {
        "colab": {
          "base_uri": "https://localhost:8080/"
        },
        "id": "Jf_8mxdwnjaF",
        "outputId": "ce61c551-46d2-4abe-b0f9-c00715bcc0f6"
      },
      "execution_count": null,
      "outputs": [
        {
          "output_type": "stream",
          "name": "stdout",
          "text": [
            "Calculate square of numbers \n",
            "square:  4\n",
            "square:  25\n",
            "square:  49\n",
            "square:  64\n"
          ]
        }
      ]
    },
    {
      "cell_type": "code",
      "source": [
        "calc_cube(arr)"
      ],
      "metadata": {
        "colab": {
          "base_uri": "https://localhost:8080/"
        },
        "id": "qI3k7noxnjXW",
        "outputId": "f9a7e87d-acb0-437c-a4e5-a21f444a8bb1"
      },
      "execution_count": null,
      "outputs": [
        {
          "output_type": "stream",
          "name": "stdout",
          "text": [
            "calculate cube of numbers \n",
            "cube:  8\n",
            "cube:  125\n",
            "cube:  343\n",
            "cube:  512\n"
          ]
        }
      ]
    },
    {
      "cell_type": "code",
      "source": [
        "print(\"done in : \", time.time()-t)"
      ],
      "metadata": {
        "colab": {
          "base_uri": "https://localhost:8080/"
        },
        "id": "xoP9MfcZnjUd",
        "outputId": "91551988-f679-45ac-9fbc-494d7b545b91"
      },
      "execution_count": null,
      "outputs": [
        {
          "output_type": "stream",
          "name": "stdout",
          "text": [
            "done in :  4.567233085632324\n"
          ]
        }
      ]
    },
    {
      "cell_type": "code",
      "source": [
        "# Context switching - not parallel processing but switches between threads for better performance\n",
        "\n",
        "import threading\n",
        "\n",
        "t1 = threading.Thread(target = calc_square, args= (arr, ))\n",
        "t2 = threading.Thread(target=calc_cube, args=(arr,))"
      ],
      "metadata": {
        "id": "tGAysGKTnjRe"
      },
      "execution_count": null,
      "outputs": []
    },
    {
      "cell_type": "code",
      "source": [
        "t =time.time()\n",
        "\n",
        "t1.start()\n",
        "t2.start()\n",
        "\n",
        "t1.join()\n",
        "t2.join()\n",
        "\n",
        "print(\"done in : \", time.time()-t)\n"
      ],
      "metadata": {
        "colab": {
          "base_uri": "https://localhost:8080/"
        },
        "id": "YU7ZLWNynjLe",
        "outputId": "5b93816b-5ceb-4d66-c759-7743047f7298"
      },
      "execution_count": null,
      "outputs": [
        {
          "output_type": "stream",
          "name": "stdout",
          "text": [
            "Calculate square of numbers \n",
            "calculate cube of numbers \n",
            "cube:  8\n",
            "square:  4\n",
            "cube:  125\n",
            "cube:  343\n",
            "square:  25\n",
            "cube:  512\n",
            "square:  49\n",
            "square:  64\n",
            "done in :  0.8075292110443115\n"
          ]
        }
      ]
    },
    {
      "cell_type": "markdown",
      "source": [
        "Module/ package/ library"
      ],
      "metadata": {
        "id": "frp9b6lXuMnn"
      }
    },
    {
      "cell_type": "code",
      "source": [
        "import math\n",
        "math.sqrt(16), math.pow(2,5)"
      ],
      "metadata": {
        "colab": {
          "base_uri": "https://localhost:8080/"
        },
        "id": "K56s2wHQnjId",
        "outputId": "5cd4c68c-826c-408a-890f-608657849d86"
      },
      "execution_count": null,
      "outputs": [
        {
          "output_type": "execute_result",
          "data": {
            "text/plain": [
              "(4.0, 32.0)"
            ]
          },
          "metadata": {},
          "execution_count": 60
        }
      ]
    },
    {
      "cell_type": "code",
      "source": [
        "dir(math)"
      ],
      "metadata": {
        "colab": {
          "base_uri": "https://localhost:8080/"
        },
        "id": "AiVO0oABnjFP",
        "outputId": "e45f8c6b-0b2c-4a56-db5d-31a7a3358c4e"
      },
      "execution_count": null,
      "outputs": [
        {
          "output_type": "execute_result",
          "data": {
            "text/plain": [
              "['__doc__',\n",
              " '__loader__',\n",
              " '__name__',\n",
              " '__package__',\n",
              " '__spec__',\n",
              " 'acos',\n",
              " 'acosh',\n",
              " 'asin',\n",
              " 'asinh',\n",
              " 'atan',\n",
              " 'atan2',\n",
              " 'atanh',\n",
              " 'ceil',\n",
              " 'comb',\n",
              " 'copysign',\n",
              " 'cos',\n",
              " 'cosh',\n",
              " 'degrees',\n",
              " 'dist',\n",
              " 'e',\n",
              " 'erf',\n",
              " 'erfc',\n",
              " 'exp',\n",
              " 'expm1',\n",
              " 'fabs',\n",
              " 'factorial',\n",
              " 'floor',\n",
              " 'fmod',\n",
              " 'frexp',\n",
              " 'fsum',\n",
              " 'gamma',\n",
              " 'gcd',\n",
              " 'hypot',\n",
              " 'inf',\n",
              " 'isclose',\n",
              " 'isfinite',\n",
              " 'isinf',\n",
              " 'isnan',\n",
              " 'isqrt',\n",
              " 'lcm',\n",
              " 'ldexp',\n",
              " 'lgamma',\n",
              " 'log',\n",
              " 'log10',\n",
              " 'log1p',\n",
              " 'log2',\n",
              " 'modf',\n",
              " 'nan',\n",
              " 'nextafter',\n",
              " 'perm',\n",
              " 'pi',\n",
              " 'pow',\n",
              " 'prod',\n",
              " 'radians',\n",
              " 'remainder',\n",
              " 'sin',\n",
              " 'sinh',\n",
              " 'sqrt',\n",
              " 'tan',\n",
              " 'tanh',\n",
              " 'tau',\n",
              " 'trunc',\n",
              " 'ulp']"
            ]
          },
          "metadata": {},
          "execution_count": 61
        }
      ]
    },
    {
      "cell_type": "code",
      "source": [
        "import calendar\n",
        "\n",
        "cal = calendar.month(2022,1)\n",
        "print(cal)"
      ],
      "metadata": {
        "colab": {
          "base_uri": "https://localhost:8080/"
        },
        "id": "DytdyPtQnjCS",
        "outputId": "bdf148e3-4228-42fc-c872-b92be3335bd1"
      },
      "execution_count": null,
      "outputs": [
        {
          "output_type": "stream",
          "name": "stdout",
          "text": [
            "    January 2022\n",
            "Mo Tu We Th Fr Sa Su\n",
            "                1  2\n",
            " 3  4  5  6  7  8  9\n",
            "10 11 12 13 14 15 16\n",
            "17 18 19 20 21 22 23\n",
            "24 25 26 27 28 29 30\n",
            "31\n",
            "\n"
          ]
        }
      ]
    },
    {
      "cell_type": "code",
      "source": [
        "calendar.isleap(2018), calendar.isleap(2020)"
      ],
      "metadata": {
        "colab": {
          "base_uri": "https://localhost:8080/"
        },
        "id": "vqNUptm2ni_G",
        "outputId": "a14735f9-e36f-4bc5-fae4-85d1eb9cce0e"
      },
      "execution_count": null,
      "outputs": [
        {
          "output_type": "execute_result",
          "data": {
            "text/plain": [
              "(False, True)"
            ]
          },
          "metadata": {},
          "execution_count": 64
        }
      ]
    },
    {
      "cell_type": "markdown",
      "source": [
        "Importing function from another file"
      ],
      "metadata": {
        "id": "gOLmdM3xxpXg"
      }
    },
    {
      "cell_type": "code",
      "source": [
        "import sys\n",
        "\n",
        "# sys.path.append('<file name>')"
      ],
      "metadata": {
        "id": "OxIeCzHzni8G"
      },
      "execution_count": null,
      "outputs": []
    },
    {
      "cell_type": "code",
      "source": [
        "sys.path"
      ],
      "metadata": {
        "colab": {
          "base_uri": "https://localhost:8080/"
        },
        "id": "rUu00gJEni41",
        "outputId": "8aad9570-07bd-441e-cd66-9d32c8cdedd4"
      },
      "execution_count": null,
      "outputs": [
        {
          "output_type": "execute_result",
          "data": {
            "text/plain": [
              "['/content',\n",
              " '/env/python',\n",
              " '/usr/lib/python310.zip',\n",
              " '/usr/lib/python3.10',\n",
              " '/usr/lib/python3.10/lib-dynload',\n",
              " '',\n",
              " '/usr/local/lib/python3.10/dist-packages',\n",
              " '/usr/lib/python3/dist-packages',\n",
              " '/usr/local/lib/python3.10/dist-packages/IPython/extensions',\n",
              " '/root/.ipython']"
            ]
          },
          "metadata": {},
          "execution_count": 66
        }
      ]
    },
    {
      "cell_type": "code",
      "source": [
        "# import <file name> as f\n",
        "\n",
        "# method_call = f.method()\n",
        "# print(method_call)"
      ],
      "metadata": {
        "id": "35hoUVQBni1l"
      },
      "execution_count": null,
      "outputs": []
    },
    {
      "cell_type": "code",
      "source": [
        "s = {0: 'False', 1: 'True'}\n",
        "print(all(s))"
      ],
      "metadata": {
        "colab": {
          "base_uri": "https://localhost:8080/"
        },
        "id": "lkDVTEXmniv2",
        "outputId": "ae7d60aa-21c7-4e5d-c6d6-7624b63599f8"
      },
      "execution_count": null,
      "outputs": [
        {
          "output_type": "stream",
          "name": "stdout",
          "text": [
            "False\n"
          ]
        }
      ]
    },
    {
      "cell_type": "code",
      "source": [
        "s = {0: 'True', 1: 'True'}\n",
        "print(all(s))"
      ],
      "metadata": {
        "colab": {
          "base_uri": "https://localhost:8080/"
        },
        "id": "Ty-t9z-bnist",
        "outputId": "afd48766-db3a-4e50-f4f7-501d5c37cfd7"
      },
      "execution_count": null,
      "outputs": [
        {
          "output_type": "stream",
          "name": "stdout",
          "text": [
            "False\n"
          ]
        }
      ]
    },
    {
      "cell_type": "code",
      "source": [
        "s = {1: 'True' , False:0}\n",
        "print(all(s))"
      ],
      "metadata": {
        "colab": {
          "base_uri": "https://localhost:8080/"
        },
        "id": "arCAu_TJnipi",
        "outputId": "0dd06c57-f01b-4673-8ab7-61d65238b3f0"
      },
      "execution_count": null,
      "outputs": [
        {
          "output_type": "stream",
          "name": "stdout",
          "text": [
            "False\n"
          ]
        }
      ]
    },
    {
      "cell_type": "code",
      "source": [
        "# regular expression\n",
        "import re\n",
        "\n",
        "txt =\"The rain in Hyderabad\"\n",
        "x = re.findall('ai', txt)\n",
        "\n",
        "print(x)\n",
        "#  ^ - beginning of the line\n",
        "#  .* - Try to find text from 0 till end\n",
        "#  $ - for the last value\n",
        "x = re.search(\"^The.*Hyderabad$\", txt)\n",
        "if x:\n",
        "  print(\"word found\")\n",
        "else:\n",
        "  print(\"not found\")\n"
      ],
      "metadata": {
        "colab": {
          "base_uri": "https://localhost:8080/"
        },
        "id": "XAA3wp90nimI",
        "outputId": "6e84f71e-b996-4367-bc41-f42d364d6731"
      },
      "execution_count": null,
      "outputs": [
        {
          "output_type": "stream",
          "name": "stdout",
          "text": [
            "['ai']\n",
            "word found\n"
          ]
        }
      ]
    },
    {
      "cell_type": "code",
      "source": [
        "import re\n",
        "\n",
        "text = \"The weather forecast in our local area.\"\n",
        "\n",
        "x = re.search(\"^The.*in$\", text)\n",
        "\n",
        "if x:\n",
        "  print(\"word found\")\n",
        "else:\n",
        "  print(\"not found\")"
      ],
      "metadata": {
        "colab": {
          "base_uri": "https://localhost:8080/"
        },
        "id": "v5MTukI_wrSZ",
        "outputId": "d18b27be-4970-4a63-98d8-f05ada6e2eb1"
      },
      "execution_count": null,
      "outputs": [
        {
          "output_type": "stream",
          "name": "stdout",
          "text": [
            "not found\n"
          ]
        }
      ]
    },
    {
      "cell_type": "code",
      "source": [
        "text = \"This is a sample text with a specific word included.\"\n",
        "word_to_find = \"specific\"  # Word to be searched\n",
        "\n",
        "if re.search(r'\\b' + re.escape(word_to_find) + r'\\b', text):\n",
        "  print(\"The word exists in the string.\")\n",
        "else:\n",
        "  print(\"The word does not exist in the string.\")"
      ],
      "metadata": {
        "colab": {
          "base_uri": "https://localhost:8080/"
        },
        "id": "atycTLBYx4yn",
        "outputId": "c931f4b0-b359-48bd-b02e-5ae4e615ae85"
      },
      "execution_count": null,
      "outputs": [
        {
          "output_type": "stream",
          "name": "stdout",
          "text": [
            "The word exists in the string.\n"
          ]
        }
      ]
    },
    {
      "cell_type": "markdown",
      "source": [
        "In this example, re.search() is used to search for the word \"specific\" in the text string.\n",
        "   - The re.escape() function is used to escape any special characters in the word (if any) before using it in the regular expression pattern.\n",
        "   - The \\b in the regular expression pattern is a word boundary anchor that matches the position between a word character and a non-word character. It ensures that the word is matched as a whole word and not as part of another word.\n"
      ],
      "metadata": {
        "id": "unfghDvdyIow"
      }
    },
    {
      "cell_type": "code",
      "source": [
        "import re\n",
        "\n",
        "Nameage = ''' Sharad is 25 and Pawan is 28 and Raha is 3 and Karren is 562545'''\n",
        "\n",
        "age = re.findall(r'\\d{1,2}', Nameage)\n",
        "names = re.findall(r'[A-Z][a-z]*', Nameage)\n",
        "agedict = {}\n",
        "x=0\n",
        "print(age)\n",
        "print(names)\n",
        "\n",
        "for name in names:\n",
        "  agedict[name] = age[x]\n",
        "  x+=1\n",
        "\n",
        "print(agedict)"
      ],
      "metadata": {
        "colab": {
          "base_uri": "https://localhost:8080/"
        },
        "id": "WMgXKB_XnijY",
        "outputId": "d0f9ceb2-674e-486e-8170-4486e46cbcc9"
      },
      "execution_count": null,
      "outputs": [
        {
          "output_type": "stream",
          "name": "stdout",
          "text": [
            "['25', '28', '3', '56', '25', '45']\n",
            "['Sharad', 'Pawan', 'Raha', 'Karren']\n",
            "{'Sharad': '25', 'Pawan': '28', 'Raha': '3', 'Karren': '56'}\n"
          ]
        }
      ]
    },
    {
      "cell_type": "code",
      "source": [
        "txt = 'The rain in hyderabad'\n",
        "x = re.split(\"\\s\", txt)\n",
        "print(x)"
      ],
      "metadata": {
        "colab": {
          "base_uri": "https://localhost:8080/"
        },
        "id": "Fd9pPShknigD",
        "outputId": "d0811a92-2cd6-4621-f8aa-e4c03b7db901"
      },
      "execution_count": null,
      "outputs": [
        {
          "output_type": "stream",
          "name": "stdout",
          "text": [
            "['The', 'rain', 'in', 'hyderabad']\n"
          ]
        }
      ]
    },
    {
      "cell_type": "code",
      "source": [
        "re.split(\" \", txt)"
      ],
      "metadata": {
        "colab": {
          "base_uri": "https://localhost:8080/"
        },
        "id": "77kgRi0PnidM",
        "outputId": "66739999-6b35-4ab7-ebb5-9e5aafde3b99"
      },
      "execution_count": null,
      "outputs": [
        {
          "output_type": "execute_result",
          "data": {
            "text/plain": [
              "['The', 'rain', 'in', 'hyderabad']"
            ]
          },
          "metadata": {},
          "execution_count": 11
        }
      ]
    },
    {
      "cell_type": "code",
      "source": [
        "string = 'twelve:12 Eighty nine:89.'\n",
        "pattern = '\\d+'     #means one or more digit [0-9]\n",
        "\n",
        "result = re.split(pattern, string)\n",
        "print(result)"
      ],
      "metadata": {
        "colab": {
          "base_uri": "https://localhost:8080/"
        },
        "id": "1IuFmMM4niZv",
        "outputId": "c5c87c7d-0eb1-4389-94c7-63e7801166e9"
      },
      "execution_count": null,
      "outputs": [
        {
          "output_type": "stream",
          "name": "stdout",
          "text": [
            "['twelve:', ' Eighty nine:', '.']\n"
          ]
        }
      ]
    },
    {
      "cell_type": "code",
      "source": [
        "phone = \"2004-959-559 # This is the phone number\"\n",
        "\n",
        "num = re.sub(r'#.*$', \"\", phone)\n",
        "print(\"Phone num: \", num)\n",
        "\n",
        "phone = \"2004-959-559 This is the phone number\"\n",
        "\n",
        "num = re.sub(r'#.*$', \"\", phone)\n",
        "print(\"Phone num: \", num)\n",
        "\n",
        "num = re.sub(r'\\D', \"\", phone)\n",
        "print(\"Phone number : \", num)"
      ],
      "metadata": {
        "colab": {
          "base_uri": "https://localhost:8080/"
        },
        "id": "y5UDiNEmniT2",
        "outputId": "f1510399-cb6d-4c9f-a563-618298752a92"
      },
      "execution_count": null,
      "outputs": [
        {
          "output_type": "stream",
          "name": "stdout",
          "text": [
            "Phone num:  2004-959-559 \n",
            "Phone num:  2004-959-559 This is the phone number\n",
            "Phone number :  2004959559\n"
          ]
        }
      ]
    },
    {
      "cell_type": "code",
      "source": [
        "allname = re.findall(\"name\", \"My name is Sharath and what is your name\")\n",
        "txt = \"yy name is Sharath and what is your name\"\n",
        "for name in allname:\n",
        "  print(name, \" \", re.findall(r'[A-Z][a-z][a-z]*', txt))"
      ],
      "metadata": {
        "colab": {
          "base_uri": "https://localhost:8080/"
        },
        "id": "W9TyGtm3Vuid",
        "outputId": "5fbe7976-b7a5-49d8-bebd-c966b3161bc5"
      },
      "execution_count": null,
      "outputs": [
        {
          "output_type": "stream",
          "name": "stdout",
          "text": [
            "name   ['Sharath']\n",
            "name   ['Sharath']\n"
          ]
        }
      ]
    },
    {
      "cell_type": "code",
      "source": [
        "for i in re.finditer(\"name\", txt):\n",
        "  loctup = i.span()     #returns a tuple containing the start and end position of the match\n",
        "  print(loctup)"
      ],
      "metadata": {
        "colab": {
          "base_uri": "https://localhost:8080/"
        },
        "id": "vfNhL5MRVue3",
        "outputId": "728de38d-ac13-40de-bd78-a20566db16b8"
      },
      "execution_count": null,
      "outputs": [
        {
          "output_type": "stream",
          "name": "stdout",
          "text": [
            "(3, 7)\n",
            "(36, 40)\n"
          ]
        }
      ]
    },
    {
      "cell_type": "code",
      "source": [
        "names = \"Aam, Bam, Sam, Ram, Mam, Jam , Fan\"\n",
        "\n",
        "allname = re.findall(\"[A-M]am\", names)\n",
        "print(allname)\n",
        "\n",
        "for i in allname:\n",
        "  print(i)"
      ],
      "metadata": {
        "colab": {
          "base_uri": "https://localhost:8080/"
        },
        "id": "knwzCJFiVub1",
        "outputId": "9e6a60a6-1b8c-4737-f17a-906b8573b594"
      },
      "execution_count": 14,
      "outputs": [
        {
          "output_type": "stream",
          "name": "stdout",
          "text": [
            "['Aam', 'Bam', 'Mam', 'Jam']\n",
            "Aam\n",
            "Bam\n",
            "Mam\n",
            "Jam\n"
          ]
        }
      ]
    },
    {
      "cell_type": "code",
      "source": [
        "import re\n",
        "regex = re.compile(\"[R]am\")\n",
        "names = regex.sub(\"Rama\", names)      #sub - substitute\n",
        "print(names)"
      ],
      "metadata": {
        "colab": {
          "base_uri": "https://localhost:8080/"
        },
        "id": "QFYexVcZi4l3",
        "outputId": "3a60544b-eb9d-41e7-c355-4071ee57ce18"
      },
      "execution_count": 15,
      "outputs": [
        {
          "output_type": "stream",
          "name": "stdout",
          "text": [
            "Aam, Bam, Sam, Rama, Mam, Jam , Fan\n"
          ]
        }
      ]
    },
    {
      "cell_type": "code",
      "source": [
        "txt = \"The rain in Hyderabad\"\n",
        "x= re.sub(\"\\s\", \"9\", txt, 2)      # \\s - white spaces\n",
        "print(x)"
      ],
      "metadata": {
        "colab": {
          "base_uri": "https://localhost:8080/"
        },
        "id": "0s2kZv4Ii5VC",
        "outputId": "c016d5f4-1936-4f97-9d9e-f402eaeab635"
      },
      "execution_count": 16,
      "outputs": [
        {
          "output_type": "stream",
          "name": "stdout",
          "text": [
            "The9rain9in Hyderabad\n"
          ]
        }
      ]
    },
    {
      "cell_type": "code",
      "source": [
        "re.sub(\"[A-Za-z]\", \"*\", \"ada 1245zxdq #$%@fsdf3245354\")"
      ],
      "metadata": {
        "colab": {
          "base_uri": "https://localhost:8080/",
          "height": 35
        },
        "id": "_B0nkdLzi5SA",
        "outputId": "08745209-a686-49f6-f3f8-3d19ce697ee0"
      },
      "execution_count": 17,
      "outputs": [
        {
          "output_type": "execute_result",
          "data": {
            "text/plain": [
              "'*** 1245**** #$%@****3245354'"
            ],
            "application/vnd.google.colaboratory.intrinsic+json": {
              "type": "string"
            }
          },
          "metadata": {},
          "execution_count": 17
        }
      ]
    },
    {
      "cell_type": "code",
      "source": [
        "re.sub(\"[^A-Za-z]\", \"*\", \"ada 1245zxdq #$%@fsdf3245354\")"
      ],
      "metadata": {
        "colab": {
          "base_uri": "https://localhost:8080/",
          "height": 35
        },
        "id": "-plyajVDi5Ov",
        "outputId": "7fc144f6-00e6-450d-c01e-190794815a6f"
      },
      "execution_count": 19,
      "outputs": [
        {
          "output_type": "execute_result",
          "data": {
            "text/plain": [
              "'ada*****zxdq*****fsdf*******'"
            ],
            "application/vnd.google.colaboratory.intrinsic+json": {
              "type": "string"
            }
          },
          "metadata": {},
          "execution_count": 19
        }
      ]
    },
    {
      "cell_type": "code",
      "source": [
        "randstr = '''\n",
        "My\n",
        "name\n",
        "is\n",
        "sample\n",
        "'''\n",
        "print(randstr)"
      ],
      "metadata": {
        "colab": {
          "base_uri": "https://localhost:8080/"
        },
        "id": "w8tmzpPAi5Ls",
        "outputId": "4295bf8a-6f76-4899-ef7c-afca25baca80"
      },
      "execution_count": 23,
      "outputs": [
        {
          "output_type": "stream",
          "name": "stdout",
          "text": [
            " \n",
            "My \n",
            "name \n",
            "is \n",
            "sample\n",
            "\n"
          ]
        }
      ]
    },
    {
      "cell_type": "code",
      "source": [
        "regex = re.compile(\"\\n\")\n",
        "\n",
        "randstr = regex.sub(\"\", randstr)\n",
        "\n",
        "print(randstr)"
      ],
      "metadata": {
        "colab": {
          "base_uri": "https://localhost:8080/"
        },
        "id": "5HQjjJxri5IW",
        "outputId": "2db525ba-c9d4-4012-e0d6-5abf9a7ef80e"
      },
      "execution_count": 24,
      "outputs": [
        {
          "output_type": "stream",
          "name": "stdout",
          "text": [
            " My name is sample\n"
          ]
        }
      ]
    },
    {
      "cell_type": "code",
      "source": [
        "randstr = '23545'\n",
        "print(len(re.findall(\"\\d\", randstr)))\n",
        "\n",
        "print(re.search(r\"\\d{1}\", randstr))\n",
        "\n",
        "print(re.search(r\"\\d{2}\", randstr))"
      ],
      "metadata": {
        "colab": {
          "base_uri": "https://localhost:8080/"
        },
        "id": "9_FCi9MOi4rw",
        "outputId": "a2c50c33-cbff-4334-8c83-bf4ad86cf93c"
      },
      "execution_count": 27,
      "outputs": [
        {
          "output_type": "stream",
          "name": "stdout",
          "text": [
            "5\n",
            "<re.Match object; span=(0, 1), match='2'>\n",
            "<re.Match object; span=(0, 2), match='23'>\n"
          ]
        }
      ]
    },
    {
      "cell_type": "markdown",
      "source": [
        "Pan number verification"
      ],
      "metadata": {
        "id": "R4kuO5cbm6xs"
      }
    },
    {
      "cell_type": "code",
      "source": [
        "pan = \"2553-4343-AA2313hhqjjwkq4\"\n",
        "\n",
        "if re.search(\"\\d{4}-\\d{4}-\\w{15}\", pan):\n",
        "  print(\"It's a pan No.\")\n",
        "else:\n",
        "  print(\"Not a pan No.\")"
      ],
      "metadata": {
        "colab": {
          "base_uri": "https://localhost:8080/"
        },
        "id": "VEVPLW0UmcVq",
        "outputId": "c4b3e13c-4128-4400-c9ae-6dfdc422c8d6"
      },
      "execution_count": 29,
      "outputs": [
        {
          "output_type": "stream",
          "name": "stdout",
          "text": [
            "It's a pan No.\n"
          ]
        }
      ]
    },
    {
      "cell_type": "code",
      "source": [
        "str = \"This is a string sample\"\n",
        "\n",
        "print(re.split(\" \", str))"
      ],
      "metadata": {
        "colab": {
          "base_uri": "https://localhost:8080/"
        },
        "id": "5grnZcmAmcSy",
        "outputId": "bb542cb6-2e55-40e4-9185-f95ea55c2340"
      },
      "execution_count": 30,
      "outputs": [
        {
          "output_type": "stream",
          "name": "stdout",
          "text": [
            "['This', 'is', 'a', 'string', 'sample']\n"
          ]
        }
      ]
    },
    {
      "cell_type": "code",
      "source": [
        "match = re.search(\"\\AThis\", str)      #checks it 'This' is at the beginnning\n",
        "\n",
        "if match:\n",
        "  print(\"match found\")\n",
        "else:\n",
        "  print(\"not found\")\n"
      ],
      "metadata": {
        "colab": {
          "base_uri": "https://localhost:8080/"
        },
        "id": "Wh80b8tVmcPB",
        "outputId": "78a90461-5558-437b-96a3-63abad162120"
      },
      "execution_count": 31,
      "outputs": [
        {
          "output_type": "stream",
          "name": "stdout",
          "text": [
            "match found\n"
          ]
        }
      ]
    },
    {
      "cell_type": "code",
      "source": [],
      "metadata": {
        "id": "67ccPtwMmcK_"
      },
      "execution_count": null,
      "outputs": []
    },
    {
      "cell_type": "code",
      "source": [],
      "metadata": {
        "id": "gRcHXjfwmcH1"
      },
      "execution_count": null,
      "outputs": []
    },
    {
      "cell_type": "code",
      "source": [
        "import numpy as np\n",
        "a = np.arange(10)\n",
        "b = a[::2]\n",
        "print(np.shares_memory(a,b))\n",
        "a, b"
      ],
      "metadata": {
        "id": "Y9_3oAmzVuZF",
        "colab": {
          "base_uri": "https://localhost:8080/"
        },
        "outputId": "41020e0c-bcc3-46f6-b1a8-a9be4cb4c181"
      },
      "execution_count": 2,
      "outputs": [
        {
          "output_type": "stream",
          "name": "stdout",
          "text": [
            "True\n"
          ]
        },
        {
          "output_type": "execute_result",
          "data": {
            "text/plain": [
              "(array([0, 1, 2, 3, 4, 5, 6, 7, 8, 9]), array([0, 2, 4, 6, 8]))"
            ]
          },
          "metadata": {},
          "execution_count": 2
        }
      ]
    },
    {
      "cell_type": "code",
      "source": [
        "import numpy as np\n",
        "\n",
        "arr = np.array([[1,2,3,4,5], [6,7,8,9,10]])\n",
        "print(arr[0,1])\n",
        "print(arr)"
      ],
      "metadata": {
        "id": "WqosxAoHVuWD",
        "colab": {
          "base_uri": "https://localhost:8080/"
        },
        "outputId": "3d9e3c31-bce2-41a8-8c59-4204882cffb0"
      },
      "execution_count": 8,
      "outputs": [
        {
          "output_type": "stream",
          "name": "stdout",
          "text": [
            "2\n",
            "[[ 1  2  3  4  5]\n",
            " [ 6  7  8  9 10]]\n"
          ]
        }
      ]
    },
    {
      "cell_type": "code",
      "source": [
        "arr.ndim"
      ],
      "metadata": {
        "id": "lMhYmnqIVuSu",
        "colab": {
          "base_uri": "https://localhost:8080/"
        },
        "outputId": "33e5a081-1011-44cf-f81a-ea3007005314"
      },
      "execution_count": 10,
      "outputs": [
        {
          "output_type": "execute_result",
          "data": {
            "text/plain": [
              "2"
            ]
          },
          "metadata": {},
          "execution_count": 10
        }
      ]
    },
    {
      "cell_type": "code",
      "source": [
        "arr = np.array([2,3,5,6,7,8,9,30])\n",
        "print(arr[1:4])"
      ],
      "metadata": {
        "id": "53cx9glNVuP-",
        "colab": {
          "base_uri": "https://localhost:8080/"
        },
        "outputId": "60d24a54-cc6e-4c80-b1fb-c2f6421de33b"
      },
      "execution_count": 11,
      "outputs": [
        {
          "output_type": "stream",
          "name": "stdout",
          "text": [
            "[3 5 6]\n"
          ]
        }
      ]
    },
    {
      "cell_type": "code",
      "source": [
        "print(arr[1:6:2])"
      ],
      "metadata": {
        "id": "1iusV37qVuNe",
        "colab": {
          "base_uri": "https://localhost:8080/"
        },
        "outputId": "d3ec3144-49ed-4c9a-e8bc-4ec0744b6dc5"
      },
      "execution_count": 12,
      "outputs": [
        {
          "output_type": "stream",
          "name": "stdout",
          "text": [
            "[3 6 8]\n"
          ]
        }
      ]
    },
    {
      "cell_type": "code",
      "source": [],
      "metadata": {
        "id": "z4DADHoOVuKo"
      },
      "execution_count": null,
      "outputs": []
    },
    {
      "cell_type": "code",
      "source": [],
      "metadata": {
        "id": "SG_opjMjVuHr"
      },
      "execution_count": null,
      "outputs": []
    },
    {
      "cell_type": "code",
      "source": [],
      "metadata": {
        "id": "HfQ1GgsvVuEn"
      },
      "execution_count": null,
      "outputs": []
    },
    {
      "cell_type": "code",
      "source": [],
      "metadata": {
        "id": "WrooCrn1VuBd"
      },
      "execution_count": null,
      "outputs": []
    },
    {
      "cell_type": "code",
      "source": [],
      "metadata": {
        "id": "mTxDZwJIVt7K"
      },
      "execution_count": null,
      "outputs": []
    },
    {
      "cell_type": "code",
      "source": [],
      "metadata": {
        "id": "yeaSOf5ZVt36"
      },
      "execution_count": null,
      "outputs": []
    },
    {
      "cell_type": "code",
      "source": [],
      "metadata": {
        "id": "tjVIh-IvVt0r"
      },
      "execution_count": null,
      "outputs": []
    },
    {
      "cell_type": "code",
      "source": [],
      "metadata": {
        "id": "g29iQLpyVttC"
      },
      "execution_count": null,
      "outputs": []
    },
    {
      "cell_type": "code",
      "source": [],
      "metadata": {
        "id": "j5gTYDWZVtpx"
      },
      "execution_count": null,
      "outputs": []
    },
    {
      "cell_type": "code",
      "source": [],
      "metadata": {
        "id": "VyJpmJBMVtms"
      },
      "execution_count": null,
      "outputs": []
    },
    {
      "cell_type": "code",
      "source": [],
      "metadata": {
        "id": "iwei_hbLVtg9"
      },
      "execution_count": null,
      "outputs": []
    },
    {
      "cell_type": "code",
      "source": [],
      "metadata": {
        "id": "0kLZS3h5Vtds"
      },
      "execution_count": null,
      "outputs": []
    },
    {
      "cell_type": "code",
      "source": [],
      "metadata": {
        "id": "5q_8kpNuVtV-"
      },
      "execution_count": null,
      "outputs": []
    }
  ]
}